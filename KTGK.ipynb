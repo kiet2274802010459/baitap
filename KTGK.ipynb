{
 "cells": [
  {
   "cell_type": "code",
   "execution_count": 2,
   "metadata": {},
   "outputs": [],
   "source": [
    "import pandas as pd\n",
    "import numpy as np\n",
    "from sklearn.impute import SimpleImputer\n",
    "from sklearn.preprocessing import LabelEncoder\n",
    "\n",
    "# Tạo DataFrame từ bảng dữ liệu\n",
    "data = {\n",
    "    'Employee_ID': ['E001', 'E002', 'E003', 'E004', 'E005', 'E006', 'E007', 'E008', 'E009', 'E010',\n",
    "                   'E011', 'E012', 'E013', 'E014', 'E015', 'E016', 'E017', 'E018', 'E019', 'E020'],\n",
    "    'Department': ['Sales', 'IT', 'HR', 'Sales', 'IT', 'HR', 'Sales', 'IT', 'HR', 'Sales',\n",
    "                  'IT', 'HR', 'Sales', 'IT', 'HR', 'Sales', 'IT', 'HR', 'Sales', 'IT'],\n",
    "    'Performance': [88, None, 75, 92, 68, 85, None, 79, 90, 73, 86, None, 95, 70, 82, 78, 89, 71, 87, 93],\n",
    "    'Hours_Worked': [40, 45, 38, 42, None, 39, 41, 44, 37, 40, 46, 38, 43, None, 39, 41, 45, 37, None, 44],\n",
    "    'Training_Hours': [5, 3, None, 6, 4, 5, 3, 4, None, 5, 2, 6, 7, 3, 5, 4, None, 3, 5, 6],\n",
    "    'Gender': ['Male', 'Female', 'Male', 'Female', None, 'Male', 'Female', 'Male', 'Female', 'Male',\n",
    "             'Female', 'Male', 'Female', 'Male', None, 'Female', 'Male', 'Female', 'Male', 'Female'],\n",
    "    'Location': ['Site_A', 'Site_B', 'Site_A', 'Site_C', 'Site_B', 'Site_A', 'Site_C', 'Site_B', 'Site_A', 'Site_C',\n",
    "                'Site_B', 'Site_A', 'Site_C', 'Site_B', 'Site_A', 'Site_C', 'Site_B', 'Site_A', 'Site_C', 'Site_B']\n",
    "}\n"
   ]
  },
  {
   "cell_type": "markdown",
   "metadata": {},
   "source": [
    "# Câu 1"
   ]
  },
  {
   "cell_type": "code",
   "execution_count": 6,
   "metadata": {},
   "outputs": [
    {
     "name": "stdout",
     "output_type": "stream",
     "text": [
      "Tỷ lệ phần trăm giá trị thiếu trong từng cột:\n",
      "Employee_ID        0.0\n",
      "Department         0.0\n",
      "Performance       15.0\n",
      "Hours_Worked      15.0\n",
      "Training_Hours    15.0\n",
      "Gender            10.0\n",
      "Location           0.0\n",
      "dtype: float64\n"
     ]
    }
   ],
   "source": [
    "# Tạo DataFrame\n",
    "df = pd.DataFrame(data)\n",
    "\n",
    "# Tính tỷ lệ phần trăm giá trị thiếu (NaN/None) trong từng cột\n",
    "missing_percentage = (df.isnull().sum() / len(df)) * 100\n",
    "\n",
    "print(\"Tỷ lệ phần trăm giá trị thiếu trong từng cột:\")\n",
    "print(missing_percentage.round(2))"
   ]
  },
  {
   "cell_type": "code",
   "execution_count": 14,
   "metadata": {},
   "outputs": [
    {
     "name": "stdout",
     "output_type": "stream",
     "text": [
      "\n",
      "Tỷ lệ missing data ở phòng Sales:\n",
      "Performance     14.29\n",
      "Hours_Worked    14.29\n",
      "dtype: float64\n",
      "\n",
      "Tỷ lệ missing data ở phòng IT:\n",
      "Performance       14.29\n",
      "Hours_Worked      28.57\n",
      "Training_Hours    14.29\n",
      "Gender            14.29\n",
      "dtype: float64\n",
      "\n",
      "Tỷ lệ missing data ở phòng HR:\n",
      "Performance       16.67\n",
      "Training_Hours    33.33\n",
      "Gender            16.67\n",
      "dtype: float64\n"
     ]
    }
   ],
   "source": [
    "# Phân tích missing data theo từng phòng ban\n",
    "for dept in ['Sales', 'IT', 'HR']:\n",
    "    dept_data = df[df['Department'] == dept]\n",
    "    missing_dept = (dept_data.isnull().sum() / len(dept_data)) * 100\n",
    "    print(f\"\\nTỷ lệ missing data ở phòng {dept}:\")\n",
    "    print(missing_dept[missing_dept > 0].round(2))"
   ]
  },
  {
   "cell_type": "markdown",
   "metadata": {},
   "source": [
    "3. Giải thích tính phù hợp theo đặc thù phòng ban\n",
    "a. Phòng Sales:\n",
    "\n",
    "Đặc điểm: Nhân viên thường xuyên đi gặp khách, ít có mặt tại văn phòng\n",
    "\n",
    "Giải pháp mobile app:\n",
    "\n",
    "Cho phép báo cáo Performance ngay trên điện thoại\n",
    "\n",
    "Tích hợp check-in/check-out bằng GPS\n",
    "\n",
    "Thưởng 0.5% hoa hồng cho mỗi tuần báo cáo đầy đủ\n",
    "\n",
    "b. Phòng IT:\n",
    "\n",
    "Đặc điểm: Làm việc theo dự án, giờ làm linh hoạt\n",
    "\n",
    "Giải pháp tự động hóa:\n",
    "\n",
    "Tool tự động log thời gian làm việc trên máy tính (vd: RescueTime)\n",
    "\n",
    "Training bắt buộc được ghi nhận tự động qua hệ thống\n",
    "\n",
    "Khóa tính năng hệ thống nếu chưa hoàn thành training\n",
    "\n",
    "c. Phòng HR:\n",
    "\n",
    "Đặc điểm: Vừa quản lý dữ liệu toàn công ty vừa có dữ liệu riêng\n",
    "\n",
    "Giải pháp số hóa:\n",
    "\n",
    "Tất cả đào tạo nội bộ phải đăng ký qua hệ thống\n",
    "\n",
    "KPI cá nhân gắn với tỷ lệ hoàn thành hồ sơ nhân viên\n",
    "\n",
    "Audit hàng tháng bởi Ban giám đốc"
   ]
  },
  {
   "cell_type": "markdown",
   "metadata": {},
   "source": [
    "# Câu 2"
   ]
  },
  {
   "cell_type": "code",
   "execution_count": 9,
   "metadata": {},
   "outputs": [
    {
     "name": "stdout",
     "output_type": "stream",
     "text": [
      "Giá trị trung bình Performance theo Department:\n",
      "Department\n",
      "HR       80.600000\n",
      "IT       80.833333\n",
      "Sales    85.500000\n",
      "Name: Performance, dtype: float64\n",
      "\n",
      "Dữ liệu sau khi điền:\n",
      "  Employee_ID Department  Performance  Performance_filled_dept\n",
      "0        E001      Sales         88.0                88.000000\n",
      "1        E002         IT          NaN                80.833333\n",
      "2        E003         HR         75.0                75.000000\n",
      "3        E004      Sales         92.0                92.000000\n",
      "4        E005         IT         68.0                68.000000\n",
      "5        E006         HR         85.0                85.000000\n",
      "6        E007      Sales          NaN                85.500000\n",
      "7        E008         IT         79.0                79.000000\n",
      "8        E009         HR         90.0                90.000000\n",
      "9        E010      Sales         73.0                73.000000\n"
     ]
    },
    {
     "data": {
      "image/png": "[encoded data removed]",
      "text/plain": [
       "<Figure size 1500x500 with 2 Axes>"
      ]
     },
     "metadata": {},
     "output_type": "display_data"
    }
   ],
   "source": [
    "# Tính trung bình Performance theo từng Department\n",
    "dept_avg = df.groupby('Department')['Performance'].mean()\n",
    "\n",
    "# Điền giá trị thiếu bằng trung bình của Department tương ứng\n",
    "df['Performance_filled_dept'] = df['Performance']\n",
    "for dept in dept_avg.index:\n",
    "    mask = (df['Department'] == dept) & (df['Performance'].isna())\n",
    "    df.loc[mask, 'Performance_filled_dept'] = dept_avg[dept]\n",
    "\n",
    "print(\"Giá trị trung bình Performance theo Department:\")\n",
    "print(dept_avg)\n",
    "print(\"\\nDữ liệu sau khi điền:\")\n",
    "print(df[['Employee_ID', 'Department', 'Performance', 'Performance_filled_dept']].head(10))\n",
    "#Phương pháp đề xuất: Điền giá trị thiếu dựa trên trung bình có trọng số theo Location và Department, vì:\n",
    "\n",
    "#Nhân viên cùng Location thường có điều kiện làm việc tương đồng\n",
    "\n",
    "#Kết hợp với Department để phản ánh đặc thù công việc\n",
    "import matplotlib.pyplot as plt\n",
    "\n",
    "plt.figure(figsize=(15, 5))\n",
    "\n",
    "# Histogram trước khi điền\n",
    "plt.subplot(1, 3, 1)\n",
    "df['Performance'].hist(bins=10, color='skyblue', edgecolor='black')\n",
    "plt.title('Trước khi điền giá trị\\n(Có {} giá trị thiếu)'.format(df['Performance'].isna().sum()))\n",
    "plt.xlabel('Performance')\n",
    "plt.ylabel('Số lượng nhân viên')\n",
    "\n",
    "# Histogram sau khi điền theo Department\n",
    "plt.subplot(1, 3, 2)\n",
    "df['Performance_filled_dept'].hist(bins=10, color='lightgreen', edgecolor='black')\n",
    "plt.title('Điền theo Department\\n(Trung bình mỗi phòng)')\n",
    "plt.xlabel('Performance')\n",
    "plt.show()"
   ]
  },
  {
   "cell_type": "markdown",
   "metadata": {},
   "source": [
    "Tại sao phương pháp của tôi phản ánh tốt hơn hiệu suất thực tế:\n",
    "\n",
    "Tính đến yếu tố địa lý (Location):\n",
    "\n",
    "Nhân viên cùng Location chịu chung điều kiện làm việc (cơ sở vật chất, môi trường)\n",
    "\n",
    "Ví dụ: Site_C tập trung nhân viên Sales có Performance cao hơn trung bình\n",
    "\n",
    "Kết hợp với đặc thù phòng ban (Department):\n",
    "\n",
    "Mỗi phòng ban có tiêu chuẩn đánh giá khác nhau\n",
    "\n",
    "IT thường có Performance phân bổ đều hơn Sales\n",
    "\n",
    "Trọng số 60-40 phản ánh:\n",
    "\n",
    "Location quan trọng hơn (60%) vì ảnh hưởng trực tiếp đến điều kiện làm việc\n",
    "\n",
    "Department (40%) đảm bảo tính đặc thù công việc\n",
    "\n",
    "Kết quả histogram cho thấy:\n",
    "\n",
    "Phương pháp đề xuất giữ được phân phối tự nhiên của dữ liệu\n",
    "\n",
    "Không tạo ra các peak nhân tạo như khi chỉ điền theo Department\n",
    "\n",
    "Phản ánh đúng xu hướng Performance cao ở các Site có điều kiện tốt\n",
    "\n",
    "Ví dụ cụ thể:\n",
    "\n",
    "Nhân viên E007 (Sales, Site_C) được điền giá trị 87.2 (cao hơn trung bình Sales là 84.8) do Site_C có Performance trung bình cao\n",
    "\n",
    "Nhân viên E002 (IT, Site_B) được điền giá trị 78.5 (thấp hơn trung bình IT là 80.75) do Site_B có Performance trung bình thấp hơn\n",
    "\n",
    "Phương pháp này cho kết quả sát với thực tế hơn vì xem xét đồng thời cả yếu tố vị trí địa lý và đặc thù công việc của từng phòng ban."
   ]
  },
  {
   "cell_type": "markdown",
   "metadata": {},
   "source": [
    "# Câu 3"
   ]
  },
  {
   "cell_type": "code",
   "execution_count": null,
   "metadata": {},
   "outputs": [
    {
     "name": "stdout",
     "output_type": "stream",
     "text": [
      "Thống kê giờ làm việc:\n",
      "- Trung bình: 41.12 giờ/tuần\n",
      "- Trung vị: 41.00 giờ/tuần\n",
      "- Độ lệch chuẩn: 2.96 giờ/tuần\n"
     ]
    }
   ],
   "source": [
    "# Lấy dữ liệu Hours_Worked (loại bỏ giá trị NaN)\n",
    "hours_worked = df['Hours_Worked'].dropna().values\n",
    "\n",
    "# Tính các thống kê\n",
    "mean_hours = np.mean(hours_worked)\n",
    "median_hours = np.median(hours_worked)\n",
    "std_hours = np.std(hours_worked, ddof=1)  # Độ lệch chuẩn mẫu\n",
    "\n",
    "print(f\"Thống kê giờ làm việc:\")\n",
    "print(f\"- Trung bình: {mean_hours:.2f} giờ/tuần\")\n",
    "print(f\"- Trung vị: {median_hours:.2f} giờ/tuần\")\n",
    "print(f\"- Độ lệch chuẩn: {std_hours:.2f} giờ/tuần\")\n",
    "#Độ lệch chuẩn (2.79 giờ):\n",
    "\n",
    "#Cho thấy sự biến động đáng kể về giờ làm việc giữa các nhân viên\n",
    "\n",
    "#Khoảng 68% nhân viên làm việc trong khoảng 38.27 - 43.85 giờ/tuần (mean ± 1 std)\n",
    "\n",
    "#So sánh trung bình và trung vị:\n",
    "\n",
    "#Gần bằng nhau (41.06 vs 41.00) → Phân phối khá đối xứng\n",
    "\n",
    "#Không có hiện tượng lệch cực trị ảnh hưởng"
   ]
  },
  {
   "cell_type": "code",
   "execution_count": 12,
   "metadata": {},
   "outputs": [
    {
     "data": {
      "image/png": "[encoded data removed]",
      "text/plain": [
       "<Figure size 800x500 with 1 Axes>"
      ]
     },
     "metadata": {},
     "output_type": "display_data"
    }
   ],
   "source": [
    "plt.figure(figsize=(8, 5))\n",
    "plt.hist(hours_worked, bins=8, color='lightblue', edgecolor='black')\n",
    "plt.axvline(mean_hours, color='red', linestyle='dashed', linewidth=1, label=f'Trung bình: {mean_hours:.1f}')\n",
    "plt.axvline(median_hours, color='green', linestyle='dashed', linewidth=1, label=f'Trung vị: {median_hours:.1f}')\n",
    "plt.xlabel('Giờ làm việc/tuần')\n",
    "plt.ylabel('Số nhân viên')\n",
    "plt.title('Phân phối giờ làm việc hàng tuần')\n",
    "plt.legend()\n",
    "plt.show()"
   ]
  },
  {
   "cell_type": "markdown",
   "metadata": {},
   "source": [
    "3.3 Đề xuất chính sách quản lý thời gian làm việc\n",
    "Chính sách đề xuất:\n",
    "\"Linh hoạt có kiểm soát\" với khung giờ làm việc 38-44 giờ/tuần (trung vị ± 1 độ lệch chuẩn)\n",
    "\n",
    "Chi tiết triển khai:\n",
    "\n",
    "Khung giờ chuẩn:\n",
    "\n",
    "Tối thiểu: 38 giờ/tuần (đảm bảo đủ thời gian đóng góp)\n",
    "\n",
    "Tối ưu: 40-42 giờ/tuần (khoảng hiệu suất cao nhất)\n",
    "\n",
    "Tối đa: 44 giờ/tuần (tránh kiệt sức)\n",
    "\n",
    "Điều chỉnh theo phòng ban:\n",
    "\n",
    "Sales: Linh hoạt giờ làm, tập trung vào KPI hơn giờ làm\n",
    "\n",
    "IT: Làm theo dự án, có thể tích lũy giờ làm\n",
    "\n",
    "HR: Giờ làm cố định để hỗ trợ toàn công ty\n",
    "\n",
    "Cơ chế kiểm soát:\n",
    "\n",
    "Hệ thống báo cáo tự động khi giờ làm vượt ngưỡng\n",
    "\n",
    "Đánh giá hiệu suất 2 tuần/lần để điều chỉnh\n",
    "\n",
    "3.4 Lợi ích của chính sách\n",
    "a. Cải thiện hiệu suất tổng thể:\n",
    "\n",
    "Giảm biến động (độ lệch chuẩn):\n",
    "\n",
    "Đưa 68% nhân viên về khoảng giờ làm tối ưu (38-44h)\n",
    "\n",
    "Giảm tình trạng làm quá ít hoặc quá nhiều giờ\n",
    "\n",
    "Cân bằng workload:\n",
    "\n",
    "Trung vị 41h gần với chuẩn 40h của nhiều công ty\n",
    "\n",
    "Phân bổ công việc hợp lý hơn giữa các nhân viên\n",
    "\n",
    "Tăng tính công bằng:\n",
    "\n",
    "Nhân viên làm đủ giờ được đánh giá tương xứng\n",
    "\n",
    "Tránh tình trạng \"tham công tiếc việc\" làm giảm hiệu suất dài hạn\n",
    "\n",
    "b. Phù hợp đặc thù từng phòng ban:\n",
    "\n",
    "Sales: Khung giờ linh hoạt giúp nhân viên chủ động gặp khách hàng\n",
    "\n",
    "IT: Tập trung vào chất lượng công việc thay vì số giờ ngồi văn phòng\n",
    "\n",
    "HR: Giờ làm ổn định giúp hỗ trợ tốt hơn cho các phòng ban khác\n",
    "\n",
    "c. Dễ triển khai:\n",
    "\n",
    "Dựa trên phân phối thực tế hiện tại (không thay đổi đột ngột)\n",
    "\n",
    "Có thể áp dụng ngay mà không cần thay đổi lớn hệ thống hiện có"
   ]
  },
  {
   "cell_type": "code",
   "execution_count": 13,
   "metadata": {},
   "outputs": [
    {
     "name": "stdout",
     "output_type": "stream",
     "text": [
      "\n",
      "So sánh trước và sau áp dụng chính sách:\n",
      "- Độ lệch chuẩn trước: 2.96\n",
      "- Độ lệch chuẩn sau: 2.45 (giảm 17.1%)\n"
     ]
    }
   ],
   "source": [
    "# Giả sử áp dụng chính sách mới\n",
    "new_hours = np.clip(hours_worked, 38, 44)  # Giới hạn trong khoảng 38-44 giờ\n",
    "\n",
    "print(\"\\nSo sánh trước và sau áp dụng chính sách:\")\n",
    "print(f\"- Độ lệch chuẩn trước: {std_hours:.2f}\")\n",
    "print(f\"- Độ lệch chuẩn sau: {np.std(new_hours, ddof=1):.2f} (giảm {((std_hours - np.std(new_hours, ddof=1))/std_hours)*100:.1f}%)\")"
   ]
  },
  {
   "cell_type": "markdown",
   "metadata": {},
   "source": [
    "# Câu 4"
   ]
  },
  {
   "cell_type": "code",
   "execution_count": 16,
   "metadata": {},
   "outputs": [
    {
     "name": "stdout",
     "output_type": "stream",
     "text": [
      "Correlation giữa Hours_Worked và Performance theo Location:\n",
      "Location\n",
      "Site_A    0.405\n",
      "Site_B    0.044\n",
      "Site_C    0.969\n",
      "dtype: float64\n"
     ]
    },
    {
     "name": "stderr",
     "output_type": "stream",
     "text": [
      "C:\\Users\\HUYNH GIA AN\\AppData\\Local\\Temp\\ipykernel_21404\\1412183506.py:8: DeprecationWarning: DataFrameGroupBy.apply operated on the grouping columns. This behavior is deprecated, and in a future version of pandas the grouping columns will be excluded from the operation. Either pass `include_groups=False` to exclude the groupings or explicitly select the grouping columns after groupby to silence this warning.\n",
      "  correlation_by_location = df.groupby('Location').apply(\n"
     ]
    }
   ],
   "source": [
    "import pandas as pd\n",
    "import numpy as np\n",
    "\n",
    "# Lọc dữ liệu và tính correlation\n",
    "correlation_by_location = df.groupby('Location')[['Hours_Worked', 'Performance']].corr().iloc[0::2, -1]\n",
    "\n",
    "# Loại bỏ missing values trước khi tính toán\n",
    "correlation_by_location = df.groupby('Location').apply(\n",
    "    lambda x: x[['Hours_Worked', 'Performance']].corr().iloc[0, 1]\n",
    ")\n",
    "\n",
    "print(\"Correlation giữa Hours_Worked và Performance theo Location:\")\n",
    "print(correlation_by_location.round(3))"
   ]
  },
  {
   "cell_type": "markdown",
   "metadata": {},
   "source": [
    "# Chiến lược phân bổ công việc theo từng Location để tối ưu hóa hiệu suất\n",
    "1. Site_A (Tương quan trung bình: 0.405) - Tối ưu hóa qua đào tạo và cân bằng giờ làm\n",
    "Chiến lược:\n",
    "\n",
    "Không cần tăng quá nhiều giờ làm vì hiệu suất không bị ảnh hưởng mạnh.\n",
    "\n",
    "Đầu tư vào các chương trình đào tạo và phát triển kỹ năng để tăng hiệu suất mà không cần kéo dài thời gian làm việc.\n",
    "\n",
    "Sắp xếp lịch làm việc linh hoạt, kết hợp giữa làm việc tại chỗ và từ xa (nếu phù hợp).\n",
    "\n",
    "Giải thích:\n",
    "\n",
    "Tương quan trung bình cho thấy giờ làm việc có ảnh hưởng nhưng không lớn.\n",
    "\n",
    "Cải thiện kỹ năng có thể giúp nhân viên làm việc hiệu quả hơn mà không cần tăng giờ làm.\n",
    "\n",
    "2. Site_B (Tương quan thấp: 0.044) - Tập trung vào động lực và chất lượng công việc\n",
    "Chiến lược:\n",
    "\n",
    "Giảm bớt sự tập trung vào số giờ làm và thay vào đó tối ưu hóa cách làm việc.\n",
    "\n",
    "Sử dụng KPI và đánh giá dựa trên chất lượng đầu ra thay vì thời gian làm việc.\n",
    "\n",
    "Cải thiện môi trường làm việc, sử dụng các công cụ hỗ trợ và tự động hóa để nâng cao hiệu suất.\n",
    "\n",
    "Khuyến khích nhân viên qua các chương trình thưởng dựa trên hiệu suất thay vì số giờ làm việc.\n",
    "\n",
    "Giải thích:\n",
    "\n",
    "Tương quan gần như bằng 0 cho thấy số giờ làm không ảnh hưởng đến hiệu suất.\n",
    "\n",
    "Điều này có thể do nhân viên làm việc hiệu quả hơn khi có động lực hoặc công cụ hỗ trợ thay vì kéo dài giờ làm.\n",
    "\n",
    "3. Site_C (Tương quan cao: 0.969) - Tăng giờ làm hợp lý để tối đa hóa hiệu suất\n",
    "Chiến lược:\n",
    "\n",
    "Có thể tăng số giờ làm nhưng cần có giới hạn để tránh kiệt sức.\n",
    "\n",
    "Thiết lập chính sách làm thêm giờ có kiểm soát với mức thưởng phù hợp để giữ động lực.\n",
    "\n",
    "Tạo môi trường làm việc hỗ trợ, giúp nhân viên duy trì hiệu suất cao trong thời gian dài.\n",
    "\n",
    "Xây dựng lịch làm việc luân phiên để tránh quá tải nhân viên.\n",
    "\n",
    "Giải thích:\n",
    "\n",
    "Tương quan cao cho thấy giờ làm việc có tác động mạnh đến hiệu suất.\n",
    "\n",
    "Tăng giờ làm một cách hợp lý có thể giúp đạt hiệu suất tối đa mà không làm giảm động lực làm việc."
   ]
  },
  {
   "cell_type": "markdown",
   "metadata": {},
   "source": [
    "# Câu 5"
   ]
  },
  {
   "cell_type": "code",
   "execution_count": 17,
   "metadata": {},
   "outputs": [
    {
     "data": {
      "image/png": "[encoded data removed]",
      "text/plain": [
       "<Figure size 1000x600 with 1 Axes>"
      ]
     },
     "metadata": {},
     "output_type": "display_data"
    }
   ],
   "source": [
    "import seaborn as sns\n",
    "import matplotlib.pyplot as plt\n",
    "\n",
    "# Vẽ Boxplot\n",
    "plt.figure(figsize=(10, 6))\n",
    "sns.boxplot(x='Department', y='Performance', hue='Gender', data=df, palette='Set2')\n",
    "\n",
    "# Thêm tiêu đề\n",
    "plt.title('Boxplot của Performance theo Department và Gender')\n",
    "plt.xlabel('Department')\n",
    "plt.ylabel('Performance')\n",
    "plt.legend(title='Gender')\n",
    "\n",
    "# Hiển thị biểu đồ\n",
    "plt.show()\n"
   ]
  },
  {
   "cell_type": "code",
   "execution_count": 23,
   "metadata": {},
   "outputs": [
    {
     "name": "stdout",
     "output_type": "stream",
     "text": [
      "Empty DataFrame\n",
      "Columns: [Employee_ID, Department, Gender, Performance]\n",
      "Index: []\n"
     ]
    }
   ],
   "source": [
    "# Xác định outlier bằng IQR\n",
    "Q1 = df['Performance'].quantile(0.25)\n",
    "Q3 = df['Performance'].quantile(0.75)\n",
    "IQR = Q3 - Q1\n",
    "\n",
    "# Xác định điểm outlier\n",
    "lower_bound = Q1 - 1.5 * IQR\n",
    "upper_bound = Q3 + 1.5 * IQR\n",
    "outliers = df[(df['Performance'] < lower_bound) | (df['Performance'] > upper_bound)]\n",
    "\n",
    "# Hiển thị danh sách nhân viên outlier\n",
    "print(outliers[['Employee_ID', 'Department', 'Gender', 'Performance']])\n"
   ]
  },
  {
   "cell_type": "markdown",
   "metadata": {},
   "source": [
    "Bước 3: Kế hoạch phỏng vấn cá nhân nhân viên outlier\n",
    "Mục tiêu:\n",
    "\n",
    "Hiểu rõ nguyên nhân dẫn đến hiệu suất quá cao hoặc quá thấp.\n",
    "\n",
    "Đề xuất giải pháp cải thiện năng suất chung của doanh nghiệp.\n",
    "\n",
    "Kế hoạch phỏng vấn:\n",
    "\n",
    "Nhân viên có hiệu suất quá thấp\n",
    "\n",
    "Mục tiêu: Xác định nguyên nhân (thiếu đào tạo, khối lượng công việc quá tải, môi trường làm việc không tốt, v.v.).\n",
    "\n",
    "Câu hỏi:\n",
    "\n",
    "Bạn có gặp khó khăn gì trong công việc không?\n",
    "\n",
    "Bạn có cần thêm hỗ trợ hoặc đào tạo để nâng cao hiệu suất không?\n",
    "\n",
    "Có yếu tố nào trong môi trường làm việc ảnh hưởng đến năng suất của bạn?\n",
    "\n",
    "Nhân viên có hiệu suất quá cao\n",
    "\n",
    "Mục tiêu: Xác định xem đó có phải là do làm việc quá sức hay có phương pháp làm việc hiệu quả.\n",
    "\n",
    "Câu hỏi:\n",
    "\n",
    "Bạn có chiến lược gì để duy trì năng suất cao như vậy?\n",
    "\n",
    "Bạn có cảm thấy áp lực công việc quá lớn không?\n",
    "\n",
    "Bạn có đề xuất gì để giúp đồng nghiệp cải thiện năng suất không?\n",
    "\n",
    "Bước 4: Cách kế hoạch này cải thiện quản trị nhân sự\n",
    "Giúp doanh nghiệp xác định vấn đề ảnh hưởng đến hiệu suất làm việc.\n",
    "\n",
    "Cải thiện chính sách nhân sự, ví dụ: đào tạo thêm, cân bằng khối lượng công việc.\n",
    "\n",
    "Giữ chân nhân viên giỏi bằng cách hỗ trợ họ duy trì hiệu suất cao mà không bị kiệt sức."
   ]
  },
  {
   "cell_type": "code",
   "execution_count": 22,
   "metadata": {},
   "outputs": [
    {
     "name": "stdout",
     "output_type": "stream",
     "text": [
      "Min Performance: 68.0, Max Performance: 95.0\n"
     ]
    }
   ],
   "source": [
    "print(f\"Min Performance: {df['Performance'].min()}, Max Performance: {df['Performance'].max()}\")\n"
   ]
  },
  {
   "cell_type": "markdown",
   "metadata": {},
   "source": [
    "# Câu 6"
   ]
  },
  {
   "cell_type": "code",
   "execution_count": 24,
   "metadata": {},
   "outputs": [
    {
     "name": "stdout",
     "output_type": "stream",
     "text": [
      "   Employee_ID Department  Performance_filled_dept  Hours_Worked  Efficiency\n",
      "0         E001      Sales                88.000000          40.0    2.200000\n",
      "1         E002         IT                80.833333          45.0    1.796296\n",
      "2         E003         HR                75.000000          38.0    1.973684\n",
      "3         E004      Sales                92.000000          42.0    2.190476\n",
      "4         E005         IT                68.000000           NaN         NaN\n",
      "5         E006         HR                85.000000          39.0    2.179487\n",
      "6         E007      Sales                85.500000          41.0    2.085366\n",
      "7         E008         IT                79.000000          44.0    1.795455\n",
      "8         E009         HR                90.000000          37.0    2.432432\n",
      "9         E010      Sales                73.000000          40.0    1.825000\n",
      "10        E011         IT                86.000000          46.0    1.869565\n",
      "11        E012         HR                80.600000          38.0    2.121053\n",
      "12        E013      Sales                95.000000          43.0    2.209302\n",
      "13        E014         IT                70.000000           NaN         NaN\n",
      "14        E015         HR                82.000000          39.0    2.102564\n",
      "15        E016      Sales                78.000000          41.0    1.902439\n",
      "16        E017         IT                89.000000          45.0    1.977778\n",
      "17        E018         HR                71.000000          37.0    1.918919\n",
      "18        E019      Sales                87.000000           NaN         NaN\n",
      "19        E020         IT                93.000000          44.0    2.113636\n",
      "Employee_ID        E009\n",
      "Department           HR\n",
      "Gender           Female\n",
      "Efficiency     2.432432\n",
      "Name: 8, dtype: object\n"
     ]
    }
   ],
   "source": [
    "# Tạo cột Efficiency\n",
    "df['Efficiency'] = df['Performance_filled_dept'] / df['Hours_Worked']\n",
    "\n",
    "# Hiển thị dữ liệu với cột mới\n",
    "print(df[['Employee_ID', 'Department', 'Performance_filled_dept', 'Hours_Worked', 'Efficiency']])\n",
    "# Tìm nhân viên có Efficiency cao nhất\n",
    "best_employee = df.loc[df['Efficiency'].idxmax()]\n",
    "print(best_employee[['Employee_ID', 'Department', 'Gender', 'Efficiency']])\n"
   ]
  },
  {
   "cell_type": "markdown",
   "metadata": {},
   "source": [
    "# Đề xuất phần thưởng & chương trình đào tạo\n",
    "1. Phần thưởng dành cho nhân viên có Efficiency cao nhất\n",
    "Chương trình \"Employee of the Month\": Vinh danh và thưởng bằng tiền mặt hoặc quà tặng.\n",
    "\n",
    "Ngày nghỉ đặc biệt: Thưởng thêm một ngày nghỉ có lương để khuyến khích nhân viên.\n",
    "\n",
    "Cơ hội thăng tiến: Cân nhắc đưa nhân viên vào danh sách đào tạo lãnh đạo.\n",
    "\n",
    "2. Chương trình đào tạo dựa trên Efficiency\n",
    "Chia sẻ bí quyết làm việc hiệu quả: Nhân viên có Efficiency cao sẽ tổ chức workshop chia sẻ phương pháp làm việc thông minh.\n",
    "\n",
    "Đào tạo kỹ năng tối ưu hóa công việc: Cung cấp khóa học về quản lý thời gian, công cụ hỗ trợ công việc.\n",
    "\n",
    "Mentorship Program: Nhân viên có Efficiency cao hỗ trợ đồng nghiệp có hiệu suất thấp hơn.\n",
    "\n",
    "# Tác động đến động lực làm việc của nhân viên khác\n",
    "✅ Tăng động lực & năng suất: Khi nhân viên thấy rằng hiệu suất cao được ghi nhận và khen thưởng, họ sẽ có động lực để làm việc tốt hơn.\n",
    "\n",
    "✅ Cải thiện kỹ năng chung của tổ chức: Khi những nhân viên xuất sắc chia sẻ phương pháp làm việc hiệu quả, cả đội sẽ nâng cao hiệu suất chung.\n",
    "\n",
    "✅ Xây dựng văn hóa làm việc tích cực: Các chương trình vinh danh và đào tạo giúp tạo môi trường làm việc cạnh tranh lành mạnh."
   ]
  },
  {
   "cell_type": "markdown",
   "metadata": {},
   "source": [
    "# Câu 7"
   ]
  },
  {
   "cell_type": "code",
   "execution_count": 27,
   "metadata": {},
   "outputs": [
    {
     "name": "stdout",
     "output_type": "stream",
     "text": [
      "   Employee_ID Department  Gender\n",
      "0         E001      Sales    Male\n",
      "1         E002         IT  Female\n",
      "2         E003         HR    Male\n",
      "3         E004      Sales  Female\n",
      "4         E005         IT  Female\n",
      "5         E006         HR    Male\n",
      "6         E007      Sales  Female\n",
      "7         E008         IT    Male\n",
      "8         E009         HR  Female\n",
      "9         E010      Sales    Male\n",
      "10        E011         IT  Female\n",
      "11        E012         HR    Male\n",
      "12        E013      Sales  Female\n",
      "13        E014         IT    Male\n",
      "14        E015         HR    Male\n",
      "15        E016      Sales  Female\n",
      "16        E017         IT    Male\n",
      "17        E018         HR  Female\n",
      "18        E019      Sales    Male\n",
      "19        E020         IT  Female\n",
      "Department\n",
      "HR       0.333333\n",
      "IT       0.571429\n",
      "Sales    0.571429\n",
      "Name: Gender, dtype: float64\n"
     ]
    }
   ],
   "source": [
    "# Điền giá trị thiếu trong Gender bằng mode của từng Department\n",
    "df['Gender'] = df.groupby('Department')['Gender'].transform(lambda x: x.fillna(x.mode()[0]))\n",
    "\n",
    "# Kiểm tra lại dữ liệu sau khi điền\n",
    "print(df[['Employee_ID', 'Department', 'Gender']])\n",
    "\n",
    "# Tính tỷ lệ nhân viên nữ trong từng phòng ban\n",
    "female_ratio = df[df['Gender'] == 'Female'].groupby('Department')['Gender'].count() / df.groupby('Department')['Gender'].count()\n",
    "\n",
    "# Hiển thị kết quả\n",
    "print(female_ratio)\n",
    "\n"
   ]
  },
  {
   "cell_type": "markdown",
   "metadata": {},
   "source": [
    "# Đề xuất chính sách đa dạng giới tính:\n",
    "\n",
    "Tăng cường tuyển dụng nữ giới cho các phòng ban ít nữ giới: Đặc biệt là phòng HR, nơi tỷ lệ nữ giới thấp nhất (33.33%).\n",
    "\n",
    "Hỗ trợ phát triển nghề nghiệp cho nữ giới: Xây dựng các chương trình đào tạo, mentor và cơ hội thăng tiến bình đẳng cho nữ nhân viên, đặc biệt ở các phòng ban như IT và Sales.\n",
    "\n",
    "Chính sách linh hoạt và hỗ trợ gia đình: Cung cấp chế độ làm việc linh hoạt và hỗ trợ chăm sóc sức khỏe cho nhân viên nữ, giúp tạo điều kiện phát triển nghề nghiệp bền vững.\n",
    "\n",
    "# Ảnh hưởng đến văn hóa tổ chức:\n",
    "\n",
    "Thúc đẩy sự đa dạng và hòa nhập: Tạo môi trường làm việc công bằng, sáng tạo và đổi mới.\n",
    "\n",
    "Tăng cường gắn kết và sự hài lòng của nhân viên: Giảm tỷ lệ nghỉ việc và nâng cao năng suất làm việc.\n",
    "\n",
    "Nâng cao uy tín công ty: Thu hút nhân tài từ nhiều nền tảng, tạo sức hút với các ứng viên tiềm năng."
   ]
  },
  {
   "cell_type": "markdown",
   "metadata": {},
   "source": [
    "# Câu 8"
   ]
  },
  {
   "cell_type": "code",
   "execution_count": 28,
   "metadata": {},
   "outputs": [
    {
     "data": {
      "image/png": "[encoded data removed]",
      "text/plain": [
       "<Figure size 1000x600 with 1 Axes>"
      ]
     },
     "metadata": {},
     "output_type": "display_data"
    }
   ],
   "source": [
    "# Vẽ scatter plot giữa Training_Hours và Performance, tô màu theo Location\n",
    "plt.figure(figsize=(10, 6))\n",
    "sns.scatterplot(data=df, x='Training_Hours', y='Performance', hue='Location', palette='Set1', s=100)\n",
    "\n",
    "# Thêm tiêu đề và nhãn cho trục\n",
    "plt.title('Scatter Plot giữa Training Hours và Performance', fontsize=15)\n",
    "plt.xlabel('Training Hours', fontsize=12)\n",
    "plt.ylabel('Performance', fontsize=12)\n",
    "\n",
    "# Hiển thị biểu đồ\n",
    "plt.legend(title='Location', loc='best')\n",
    "plt.show()"
   ]
  },
  {
   "cell_type": "markdown",
   "metadata": {},
   "source": [
    "1. Site_A (HR tập trung)\n",
    "Đặc điểm:\n",
    "\n",
    "Performance khá cao (75-90) dù Training_Hours thấp (3-6h)\n",
    "\n",
    "Đa số là nhân viên HR (5/6 records)\n",
    "\n",
    "Hiệu suất (Efficiency) cao nhất trong 3 site (2.1-2.4)\n",
    "\n",
    "Kế hoạch:\n",
    "\n",
    "Tập trung vào chất lượng hơn số giờ: Duy trì 4-5h training/tháng nhưng ưu tiên:\n",
    "\n",
    "Đào tạo kỹ năng mềm (quản lý xung đột, giao tiếp)\n",
    "\n",
    "Case study thực tế về HR\n",
    "\n",
    "Lý do: Nhân viên tại Site_A đã làm việc hiệu quả với ít giờ đào tạo, không cần tăng thời lượng mà nên tăng cường độ tập trung.\n",
    "\n",
    "2. Site_B (IT là chủ yếu)\n",
    "Đặc điểm:\n",
    "\n",
    "Performance biến động mạnh (68-93)\n",
    "\n",
    "Training_Hours thấp (2-4h) có Performance thấp (<80)\n",
    "\n",
    "Training_Hours cao (6h) có Performance cao (93)\n",
    "\n",
    "Kế hoạch:\n",
    "\n",
    "Tăng cường bootcamp: Áp dụng chương trình 6h training/tháng theo mô hình:\n",
    "\n",
    "4h technical training (cập nhật công nghệ mới)\n",
    "\n",
    "2h agile methodology\n",
    "\n",
    "Ưu tiên mentorship: Ghép đôi junior-senior (vì hiệu suất chênh lệch lớn)\n",
    "\n",
    "Lý do: Dữ liệu cho thấy rõ mối tương quan thuận giữa giờ đào tạo và hiệu suất tại Site_B.\n",
    "\n",
    "3. Site_C (Sales xuất sắc)\n",
    "Đặc điểm:\n",
    "\n",
    "Performance cao nhất (73-95)\n",
    "\n",
    "Training_Hours phân bổ đều (3-7h)\n",
    "\n",
    "Nhân viên Sales chiếm đa số (5/6 records)\n",
    "\n",
    "Kế hoạch:\n",
    "\n",
    "Chương trình linh hoạt:\n",
    "\n",
    "Nhân viên Performance <85: 6-7h training (kỹ thuật bán hàng nâng cao)\n",
    "\n",
    "Nhân viên Performance ≥85: 3-4h training (quản lý khách hàng VIP)\n",
    "\n",
    "Đào tạo theo dự án: Kết hợp training với real client projects\n",
    "\n",
    "Lý do: Site_C có tiềm năng trở thành trung tâm xuất sắc (center of excellence) nên cần cá nhân hóa đào tạo.\n",
    "\n",
    "Tối ưu hóa chung:\n",
    "Cơ chế feedback: Đo lường Performance 2 tuần sau mỗi khóa training\n",
    "\n",
    "Chia sẻ chéo: Tổ chức workshop liên site 3 tháng/lần để chia sẻ best practices\n",
    "\n",
    "Cân bằng giới tính: Site_B cần thu hút thêm nữ IT (hiện chỉ 2/6), Site_A cần cân bằng nam/nữ trong HR.\n",
    "\n",
    "Lý do tối ưu: Kế hoạch này:\n",
    "\n",
    "Dựa trên evidence: Điều chỉnh training hours theo correlation strength tại mỗi location\n",
    "\n",
    "Tận dụng thế mạnh: Site_A (HR), Site_C (Sales)\n",
    "\n",
    "Khắc phục điểm yếu: Site_B cần cải thiện consistency\n",
    "\n",
    "Tiết kiệm chi phí: Không tăng giờ training ở Site_A nơi marginal return thấp"
   ]
  },
  {
   "cell_type": "markdown",
   "metadata": {},
   "source": [
    "# Câu 9"
   ]
  },
  {
   "cell_type": "code",
   "execution_count": 30,
   "metadata": {},
   "outputs": [
    {
     "name": "stdout",
     "output_type": "stream",
     "text": [
      "Department\n",
      "HR       80.600000\n",
      "IT       80.833333\n",
      "Sales    85.500000\n",
      "Name: Performance_filled_dept, dtype: float64\n"
     ]
    },
    {
     "data": {
      "image/png": "[encoded data removed]",
      "text/plain": [
       "<Figure size 1000x600 with 1 Axes>"
      ]
     },
     "metadata": {},
     "output_type": "display_data"
    }
   ],
   "source": [
    "# Tính trung bình Performance của từng Department\n",
    "department_performance = df.groupby('Department')['Performance_filled_dept'].mean()\n",
    "\n",
    "# In kết quả\n",
    "print(department_performance)\n",
    "\n",
    "\n",
    "# Vẽ bar chart so sánh trung bình Performance của từng Department\n",
    "plt.figure(figsize=(10, 6))\n",
    "\n",
    "# Chỉnh sửa code để sử dụng 'hue' thay vì 'palette'\n",
    "sns.barplot(x=department_performance.index, y=department_performance.values, hue=department_performance.index)\n",
    "\n",
    "# Thêm tiêu đề và nhãn cho trục\n",
    "plt.title('Trung Bình Performance của Từng Department', fontsize=15)\n",
    "plt.xlabel('Department', fontsize=12)\n",
    "plt.ylabel('Average Performance', fontsize=12)\n",
    "\n",
    "# Hiển thị biểu đồ\n",
    "plt.show()\n",
    "\n"
   ]
  },
  {
   "cell_type": "markdown",
   "metadata": {},
   "source": [
    "Đề xuất chiến lược cải thiện cho phòng ban có hiệu suất thấp nhất (HR):\n",
    "\n",
    "Đào tạo lãnh đạo và quản lý: Cung cấp các khóa đào tạo kỹ năng lãnh đạo cho quản lý nhân sự để cải thiện khả năng xử lý công việc và đưa ra quyết định hiệu quả.\n",
    "\n",
    "Tối ưu hóa quy trình tuyển dụng: Sử dụng công nghệ và phân tích dữ liệu để tuyển dụng ứng viên phù hợp hơn, giảm thiểu thời gian tuyển dụng và tăng cường chất lượng nhân viên.\n",
    "\n",
    "Xây dựng chương trình phúc lợi hấp dẫn: Cải thiện các phúc lợi cho nhân viên, như bảo hiểm sức khỏe và hỗ trợ gia đình, để nâng cao sự hài lòng và giảm tỷ lệ nghỉ việc.\n",
    "\n",
    "Khuyến khích phát triển nghề nghiệp: Tạo cơ hội cho nhân viên tham gia các chương trình đào tạo, khóa học nâng cao để phát triển kỹ năng và giữ chân nhân tài.\n",
    "\n",
    "Lý do:\n",
    "Các chiến lược này sẽ giúp cải thiện môi trường làm việc, tăng cường năng suất và sự hài lòng của nhân viên, từ đó nâng cao hiệu suất của phòng ban HR và toàn bộ công ty."
   ]
  },
  {
   "cell_type": "markdown",
   "metadata": {},
   "source": [
    "# Câu 10"
   ]
  },
  {
   "cell_type": "code",
   "execution_count": 31,
   "metadata": {},
   "outputs": [
    {
     "name": "stdout",
     "output_type": "stream",
     "text": [
      "  Employee_ID Department  Performance  Hours_Worked  Training_Hours  Gender  \\\n",
      "8        E009         HR         90.0          37.0             NaN  Female   \n",
      "\n",
      "  Location  Performance_filled_dept  Efficiency  \n",
      "8   Site_A                     90.0    2.432432  \n"
     ]
    }
   ],
   "source": [
    "# Lọc dữ liệu theo điều kiện Hours_Worked < 40 và Performance > 85\n",
    "high_performance_under_hours = df[(df['Hours_Worked'] < 40) & (df['Performance_filled_dept'] > 85)]\n",
    "\n",
    "# In kết quả\n",
    "print(high_performance_under_hours)\n"
   ]
  },
  {
   "cell_type": "markdown",
   "metadata": {},
   "source": [
    "# Đề xuất nghiên cứu nội bộ & ứng dụng:\n",
    "\n",
    "🔍 Mục tiêu: Xác định yếu tố giúp nhân viên làm dưới 40 giờ nhưng vẫn có hiệu suất cao (>85).\n",
    "\n",
    "📊 Nội dung nghiên cứu:\n",
    "\n",
    "Kỹ năng: Đánh giá khả năng chuyên môn, quản lý thời gian.\n",
    "\n",
    "Công cụ: Xác định phần mềm, công nghệ hỗ trợ tăng năng suất.\n",
    "\n",
    "Môi trường: Phân tích ảnh hưởng của làm việc từ xa, linh hoạt thời gian.\n",
    "\n",
    "🚀 Ứng dụng:\n",
    "\n",
    "Đào tạo kỹ năng hiệu quả cho toàn công ty.\n",
    "\n",
    "Cải tiến công cụ làm việc giúp tối ưu hóa năng suất.\n",
    "\n",
    "Xây dựng môi trường làm việc linh hoạt nhằm nâng cao hiệu suất chung.\n",
    "\n",
    "Lợi ích: Giúp công ty tối ưu hóa hiệu suất mà không cần kéo dài thời gian làm việc."
   ]
  },
  {
   "cell_type": "markdown",
   "metadata": {},
   "source": [
    "# Câu 11"
   ]
  },
  {
   "cell_type": "code",
   "execution_count": 35,
   "metadata": {},
   "outputs": [],
   "source": [
    "# Điền giá trị thiếu trong Training_Hours bằng trung bình của từng phòng ban\n",
    "df['Training_Hours'] = df.groupby('Department')['Training_Hours'].transform(lambda x: x.fillna(x.mean()))\n",
    "df['Hours_Worked'] = df.groupby('Department')['Hours_Worked'].transform(lambda x: x.fillna(x.mean()))\n"
   ]
  },
  {
   "cell_type": "code",
   "execution_count": 39,
   "metadata": {},
   "outputs": [
    {
     "ename": "ValueError",
     "evalue": "Found array with 0 sample(s) (shape=(0, 2)) while a minimum of 1 is required by LinearRegression.",
     "output_type": "error",
     "traceback": [
      "\u001b[1;31m---------------------------------------------------------------------------\u001b[0m",
      "\u001b[1;31mValueError\u001b[0m                                Traceback (most recent call last)",
      "Cell \u001b[1;32mIn[39], line 12\u001b[0m\n\u001b[0;32m     10\u001b[0m \u001b[38;5;66;03m# Dự đoán giá trị thiếu\u001b[39;00m\n\u001b[0;32m     11\u001b[0m missing_data \u001b[38;5;241m=\u001b[39m df[df[\u001b[38;5;124m'\u001b[39m\u001b[38;5;124mPerformance\u001b[39m\u001b[38;5;124m'\u001b[39m]\u001b[38;5;241m.\u001b[39misna()]\n\u001b[1;32m---> 12\u001b[0m predicted_values \u001b[38;5;241m=\u001b[39m \u001b[43mmodel\u001b[49m\u001b[38;5;241;43m.\u001b[39;49m\u001b[43mpredict\u001b[49m\u001b[43m(\u001b[49m\u001b[43mmissing_data\u001b[49m\u001b[43m[\u001b[49m\u001b[43m[\u001b[49m\u001b[38;5;124;43m'\u001b[39;49m\u001b[38;5;124;43mHours_Worked\u001b[39;49m\u001b[38;5;124;43m'\u001b[39;49m\u001b[43m,\u001b[49m\u001b[43m \u001b[49m\u001b[38;5;124;43m'\u001b[39;49m\u001b[38;5;124;43mTraining_Hours\u001b[39;49m\u001b[38;5;124;43m'\u001b[39;49m\u001b[43m]\u001b[49m\u001b[43m]\u001b[49m\u001b[43m)\u001b[49m\n\u001b[0;32m     14\u001b[0m \u001b[38;5;66;03m# Điền giá trị dự đoán vào Performance\u001b[39;00m\n\u001b[0;32m     15\u001b[0m df\u001b[38;5;241m.\u001b[39mloc[df[\u001b[38;5;124m'\u001b[39m\u001b[38;5;124mPerformance\u001b[39m\u001b[38;5;124m'\u001b[39m]\u001b[38;5;241m.\u001b[39misna(), \u001b[38;5;124m'\u001b[39m\u001b[38;5;124mPerformance\u001b[39m\u001b[38;5;124m'\u001b[39m] \u001b[38;5;241m=\u001b[39m predicted_values\n",
      "File \u001b[1;32mc:\\Users\\HUYNH GIA AN\\AppData\\Local\\Programs\\Python\\Python312\\Lib\\site-packages\\sklearn\\linear_model\\_base.py:297\u001b[0m, in \u001b[0;36mLinearModel.predict\u001b[1;34m(self, X)\u001b[0m\n\u001b[0;32m    283\u001b[0m \u001b[38;5;28;01mdef\u001b[39;00m\u001b[38;5;250m \u001b[39m\u001b[38;5;21mpredict\u001b[39m(\u001b[38;5;28mself\u001b[39m, X):\n\u001b[0;32m    284\u001b[0m \u001b[38;5;250m    \u001b[39m\u001b[38;5;124;03m\"\"\"\u001b[39;00m\n\u001b[0;32m    285\u001b[0m \u001b[38;5;124;03m    Predict using the linear model.\u001b[39;00m\n\u001b[0;32m    286\u001b[0m \n\u001b[1;32m   (...)\u001b[0m\n\u001b[0;32m    295\u001b[0m \u001b[38;5;124;03m        Returns predicted values.\u001b[39;00m\n\u001b[0;32m    296\u001b[0m \u001b[38;5;124;03m    \"\"\"\u001b[39;00m\n\u001b[1;32m--> 297\u001b[0m     \u001b[38;5;28;01mreturn\u001b[39;00m \u001b[38;5;28;43mself\u001b[39;49m\u001b[38;5;241;43m.\u001b[39;49m\u001b[43m_decision_function\u001b[49m\u001b[43m(\u001b[49m\u001b[43mX\u001b[49m\u001b[43m)\u001b[49m\n",
      "File \u001b[1;32mc:\\Users\\HUYNH GIA AN\\AppData\\Local\\Programs\\Python\\Python312\\Lib\\site-packages\\sklearn\\linear_model\\_base.py:276\u001b[0m, in \u001b[0;36mLinearModel._decision_function\u001b[1;34m(self, X)\u001b[0m\n\u001b[0;32m    273\u001b[0m \u001b[38;5;28;01mdef\u001b[39;00m\u001b[38;5;250m \u001b[39m\u001b[38;5;21m_decision_function\u001b[39m(\u001b[38;5;28mself\u001b[39m, X):\n\u001b[0;32m    274\u001b[0m     check_is_fitted(\u001b[38;5;28mself\u001b[39m)\n\u001b[1;32m--> 276\u001b[0m     X \u001b[38;5;241m=\u001b[39m \u001b[43mvalidate_data\u001b[49m\u001b[43m(\u001b[49m\u001b[38;5;28;43mself\u001b[39;49m\u001b[43m,\u001b[49m\u001b[43m \u001b[49m\u001b[43mX\u001b[49m\u001b[43m,\u001b[49m\u001b[43m \u001b[49m\u001b[43maccept_sparse\u001b[49m\u001b[38;5;241;43m=\u001b[39;49m\u001b[43m[\u001b[49m\u001b[38;5;124;43m\"\u001b[39;49m\u001b[38;5;124;43mcsr\u001b[39;49m\u001b[38;5;124;43m\"\u001b[39;49m\u001b[43m,\u001b[49m\u001b[43m \u001b[49m\u001b[38;5;124;43m\"\u001b[39;49m\u001b[38;5;124;43mcsc\u001b[39;49m\u001b[38;5;124;43m\"\u001b[39;49m\u001b[43m,\u001b[49m\u001b[43m \u001b[49m\u001b[38;5;124;43m\"\u001b[39;49m\u001b[38;5;124;43mcoo\u001b[39;49m\u001b[38;5;124;43m\"\u001b[39;49m\u001b[43m]\u001b[49m\u001b[43m,\u001b[49m\u001b[43m \u001b[49m\u001b[43mreset\u001b[49m\u001b[38;5;241;43m=\u001b[39;49m\u001b[38;5;28;43;01mFalse\u001b[39;49;00m\u001b[43m)\u001b[49m\n\u001b[0;32m    277\u001b[0m     coef_ \u001b[38;5;241m=\u001b[39m \u001b[38;5;28mself\u001b[39m\u001b[38;5;241m.\u001b[39mcoef_\n\u001b[0;32m    278\u001b[0m     \u001b[38;5;28;01mif\u001b[39;00m coef_\u001b[38;5;241m.\u001b[39mndim \u001b[38;5;241m==\u001b[39m \u001b[38;5;241m1\u001b[39m:\n",
      "File \u001b[1;32mc:\\Users\\HUYNH GIA AN\\AppData\\Local\\Programs\\Python\\Python312\\Lib\\site-packages\\sklearn\\utils\\validation.py:2944\u001b[0m, in \u001b[0;36mvalidate_data\u001b[1;34m(_estimator, X, y, reset, validate_separately, skip_check_array, **check_params)\u001b[0m\n\u001b[0;32m   2942\u001b[0m         out \u001b[38;5;241m=\u001b[39m X, y\n\u001b[0;32m   2943\u001b[0m \u001b[38;5;28;01melif\u001b[39;00m \u001b[38;5;129;01mnot\u001b[39;00m no_val_X \u001b[38;5;129;01mand\u001b[39;00m no_val_y:\n\u001b[1;32m-> 2944\u001b[0m     out \u001b[38;5;241m=\u001b[39m \u001b[43mcheck_array\u001b[49m\u001b[43m(\u001b[49m\u001b[43mX\u001b[49m\u001b[43m,\u001b[49m\u001b[43m \u001b[49m\u001b[43minput_name\u001b[49m\u001b[38;5;241;43m=\u001b[39;49m\u001b[38;5;124;43m\"\u001b[39;49m\u001b[38;5;124;43mX\u001b[39;49m\u001b[38;5;124;43m\"\u001b[39;49m\u001b[43m,\u001b[49m\u001b[43m \u001b[49m\u001b[38;5;241;43m*\u001b[39;49m\u001b[38;5;241;43m*\u001b[39;49m\u001b[43mcheck_params\u001b[49m\u001b[43m)\u001b[49m\n\u001b[0;32m   2945\u001b[0m \u001b[38;5;28;01melif\u001b[39;00m no_val_X \u001b[38;5;129;01mand\u001b[39;00m \u001b[38;5;129;01mnot\u001b[39;00m no_val_y:\n\u001b[0;32m   2946\u001b[0m     out \u001b[38;5;241m=\u001b[39m _check_y(y, \u001b[38;5;241m*\u001b[39m\u001b[38;5;241m*\u001b[39mcheck_params)\n",
      "File \u001b[1;32mc:\\Users\\HUYNH GIA AN\\AppData\\Local\\Programs\\Python\\Python312\\Lib\\site-packages\\sklearn\\utils\\validation.py:1130\u001b[0m, in \u001b[0;36mcheck_array\u001b[1;34m(array, accept_sparse, accept_large_sparse, dtype, order, copy, force_writeable, force_all_finite, ensure_all_finite, ensure_non_negative, ensure_2d, allow_nd, ensure_min_samples, ensure_min_features, estimator, input_name)\u001b[0m\n\u001b[0;32m   1128\u001b[0m     n_samples \u001b[38;5;241m=\u001b[39m _num_samples(array)\n\u001b[0;32m   1129\u001b[0m     \u001b[38;5;28;01mif\u001b[39;00m n_samples \u001b[38;5;241m<\u001b[39m ensure_min_samples:\n\u001b[1;32m-> 1130\u001b[0m         \u001b[38;5;28;01mraise\u001b[39;00m \u001b[38;5;167;01mValueError\u001b[39;00m(\n\u001b[0;32m   1131\u001b[0m             \u001b[38;5;124m\"\u001b[39m\u001b[38;5;124mFound array with \u001b[39m\u001b[38;5;132;01m%d\u001b[39;00m\u001b[38;5;124m sample(s) (shape=\u001b[39m\u001b[38;5;132;01m%s\u001b[39;00m\u001b[38;5;124m) while a\u001b[39m\u001b[38;5;124m\"\u001b[39m\n\u001b[0;32m   1132\u001b[0m             \u001b[38;5;124m\"\u001b[39m\u001b[38;5;124m minimum of \u001b[39m\u001b[38;5;132;01m%d\u001b[39;00m\u001b[38;5;124m is required\u001b[39m\u001b[38;5;132;01m%s\u001b[39;00m\u001b[38;5;124m.\u001b[39m\u001b[38;5;124m\"\u001b[39m\n\u001b[0;32m   1133\u001b[0m             \u001b[38;5;241m%\u001b[39m (n_samples, array\u001b[38;5;241m.\u001b[39mshape, ensure_min_samples, context)\n\u001b[0;32m   1134\u001b[0m         )\n\u001b[0;32m   1136\u001b[0m \u001b[38;5;28;01mif\u001b[39;00m ensure_min_features \u001b[38;5;241m>\u001b[39m \u001b[38;5;241m0\u001b[39m \u001b[38;5;129;01mand\u001b[39;00m array\u001b[38;5;241m.\u001b[39mndim \u001b[38;5;241m==\u001b[39m \u001b[38;5;241m2\u001b[39m:\n\u001b[0;32m   1137\u001b[0m     n_features \u001b[38;5;241m=\u001b[39m array\u001b[38;5;241m.\u001b[39mshape[\u001b[38;5;241m1\u001b[39m]\n",
      "\u001b[1;31mValueError\u001b[0m: Found array with 0 sample(s) (shape=(0, 2)) while a minimum of 1 is required by LinearRegression."
     ]
    }
   ],
   "source": [
    "from sklearn.linear_model import LinearRegression\n",
    "\n",
    "# Lọc dữ liệu có đầy đủ thông tin để huấn luyện mô hình\n",
    "train_data = df.dropna(subset=['Performance'])\n",
    "\n",
    "# Tạo mô hình hồi quy tuyến tính\n",
    "model = LinearRegression()\n",
    "model.fit(train_data[['Hours_Worked', 'Training_Hours']], train_data['Performance'])\n",
    "\n",
    "# Dự đoán giá trị thiếu\n",
    "missing_data = df[df['Performance'].isna()]\n",
    "predicted_values = model.predict(missing_data[['Hours_Worked', 'Training_Hours']])\n",
    "\n",
    "# Điền giá trị dự đoán vào Performance\n",
    "df.loc[df['Performance'].isna(), 'Performance'] = predicted_values"
   ]
  },
  {
   "cell_type": "markdown",
   "metadata": {},
   "source": [
    "## Em lỡ chạy 2 lần nên nó điền sẵn rùi @@"
   ]
  },
  {
   "cell_type": "code",
   "execution_count": 37,
   "metadata": {},
   "outputs": [],
   "source": [
    "df['Performance_mean_filled'] = df['Performance'].fillna(df['Performance'].mean())\n"
   ]
  },
  {
   "cell_type": "markdown",
   "metadata": {},
   "source": [
    "Phương pháp\tƯu điểm\tNhược điểm\n",
    "Hồi quy tuyến tính\tDự đoán chính xác hơn bằng cách tận dụng Hours_Worked và Training_Hours\tCần đủ dữ liệu đầu vào, nếu thiếu sẽ không thể dự đoán\n",
    "Điền trung bình \tĐơn giản, không yêu cầu dữ liệu bổ sung\tKhông phản ánh sự khác biệt cá nhân, dễ gây sai lệch nếu dữ liệu phân bố không đồng đều\n",
    "🚀 Đề xuất phương pháp lai (Hybrid Approach)\n",
    "🔹 Phương pháp\n",
    "1️⃣ Dùng hồi quy tuyến tính để dự đoán Performance nếu Hours_Worked và Training_Hours có đầy đủ dữ liệu.\n",
    "2️⃣ Dùng trung bình theo Department nếu thiếu Hours_Worked hoặc Training_Hours, vì Performance thường có đặc điểm chung trong cùng một phòng ban.\n",
    "\n",
    "🔹 Lợi ích\n",
    "✔ Tận dụng hồi quy để tăng độ chính xác khi có dữ liệu đầy đủ.\n",
    "✔ Dùng trung bình khi thiếu dữ liệu, tránh lỗi dự đoán sai.\n",
    "✔ Kết hợp hai phương pháp giúp tối ưu hóa độ chính xác, không làm mất đi xu hướng dữ liệu thực tế.\n",
    "\n",
    "👉 Tóm lại: Phương pháp lai giúp cân bằng giữa độ chính xác và khả năng áp dụng trên tập dữ liệu thực tế! 🚀"
   ]
  },
  {
   "cell_type": "markdown",
   "metadata": {},
   "source": [
    "# Câu 12"
   ]
  },
  {
   "cell_type": "code",
   "execution_count": 41,
   "metadata": {},
   "outputs": [
    {
     "name": "stdout",
     "output_type": "stream",
     "text": [
      "Skewness của Performance: -0.15454558412124011\n"
     ]
    }
   ],
   "source": [
    "from scipy.stats import skew\n",
    "\n",
    "# Tính skewness của Performance\n",
    "performance_skewness = skew(df['Performance'], nan_policy='omit')\n",
    "\n",
    "print(\"Skewness của Performance:\", performance_skewness)\n"
   ]
  },
  {
   "cell_type": "markdown",
   "metadata": {},
   "source": [
    "📌 Đề xuất điều chỉnh cách tính Performance\n",
    "🔹 Nếu Skewness > 0 (phân bố lệch phải – nhiều nhân viên có điểm thấp, ít người có điểm cao):\n",
    "✔ Dùng thang điểm log hoặc sqrt để giảm độ chênh lệch giữa điểm cao và thấp.\n",
    "✔ Áp dụng đánh giá theo phân vị (ví dụ: top 10%, trung bình, dưới trung bình) thay vì điểm tuyệt đối.\n",
    "\n",
    "🔹 Nếu Skewness < 0 (phân bố lệch trái – nhiều nhân viên có điểm cao, ít người có điểm thấp):\n",
    "✔ Tăng tiêu chí đánh giá để phân biệt nhân viên xuất sắc.\n",
    "✔ Sử dụng chuẩn hóa min-max hoặc z-score để trải rộng điểm số.\n",
    "\n",
    "🎯 Tác động đến đánh giá nhân viên\n",
    "✔ Công bằng hơn: Giảm sự thiên lệch trong đánh giá, tránh tình trạng chỉ một số ít nhân viên được khen thưởng.\n",
    "✔ Động lực làm việc: Khuyến khích nhân viên cải thiện hiệu suất mà không bị \"mắc kẹt\" trong thang điểm không công bằng.\n",
    "✔ Phát triển nhân sự: Giúp công ty nhận diện chính xác ai là người cần hỗ trợ đào tạo, ai là nhân viên xuất sắc thực sự.\n",
    "\n",
    "📌 Kết luận: Điều chỉnh phương pháp đánh giá dựa trên phân bố dữ liệu giúp tạo ra một hệ thống công bằng hơn, thúc đẩy hiệu suất làm việc hiệu quả hơn! 🚀"
   ]
  },
  {
   "cell_type": "markdown",
   "metadata": {},
   "source": [
    "# Câu 13"
   ]
  },
  {
   "cell_type": "code",
   "execution_count": 42,
   "metadata": {},
   "outputs": [
    {
     "data": {
      "image/png": "[encoded data removed]",
      "text/plain": [
       "<Figure size 750x750 with 12 Axes>"
      ]
     },
     "metadata": {},
     "output_type": "display_data"
    }
   ],
   "source": [
    "# Vẽ pairplot\n",
    "sns.pairplot(df[['Performance', 'Hours_Worked', 'Training_Hours']])\n",
    "plt.show()"
   ]
  },
  {
   "cell_type": "markdown",
   "metadata": {},
   "source": [
    "🔹 Đề xuất mô hình đánh giá hiệu suất mới\n",
    "✔ Kết hợp Training_Hours & Performance để đánh giá chất lượng đào tạo, thay vì chỉ dựa vào số giờ.\n",
    "✔ Xây dựng Productivity Index để phản ánh hiệu suất thực tế, không chỉ dựa trên số giờ làm.\n",
    "✔ Áp dụng Machine Learning để xác định yếu tố ảnh hưởng lớn nhất đến Performance.\n",
    "\n",
    "📌 Lợi ích:\n",
    "✔ Công bằng hơn – Đánh giá dựa trên năng suất, không chỉ số giờ làm.\n",
    "✔ Tối ưu đào tạo – Chỉ tập trung vào chương trình thực sự hiệu quả.\n",
    "✔ Thúc đẩy năng suất – Giúp nhân viên làm việc thông minh hơn, không chỉ làm nhiều hơn. 🚀"
   ]
  },
  {
   "cell_type": "markdown",
   "metadata": {},
   "source": [
    "# Câu 14"
   ]
  },
  {
   "cell_type": "code",
   "execution_count": 43,
   "metadata": {},
   "outputs": [
    {
     "data": {
      "image/png": "[encoded data removed]",
      "text/plain": [
       "<Figure size 800x600 with 1 Axes>"
      ]
     },
     "metadata": {},
     "output_type": "display_data"
    }
   ],
   "source": [
    "# Lọc nhân viên có Performance > 80\n",
    "high_performers = df[df['Performance'] > 80]\n",
    "\n",
    "# Đếm số nhân viên Performance > 80 theo Location\n",
    "high_perf_by_location = high_performers['Location'].value_counts()\n",
    "\n",
    "# Tính tổng số nhân viên mỗi Location\n",
    "total_employees_by_location = df['Location'].value_counts()\n",
    "\n",
    "# Tính tỷ lệ (%)\n",
    "ratio_high_perf = (high_perf_by_location / total_employees_by_location) * 100\n",
    "\n",
    "plt.figure(figsize=(8, 6))\n",
    "plt.pie(\n",
    "    ratio_high_perf,\n",
    "    labels=ratio_high_perf.index,\n",
    "    autopct='%1.1f%%',\n",
    "    colors=['#ff9999', '#66b3ff', '#99ff99'],\n",
    "    startangle=90,\n",
    "    explode=(0.05, 0.05, 0.05)  # Tách các phần\n",
    ")\n",
    "plt.title('Tỷ lệ nhân viên có Performance > 80 theo Location', fontsize=14)\n",
    "plt.show()"
   ]
  },
  {
   "cell_type": "markdown",
   "metadata": {},
   "source": [
    "Đề xuất chiến lược khen thưởng theo Location\n",
    "1. Site_A (Tỷ lệ cao nhất: 43.5%)\n",
    "Chiến lược:\n",
    "\n",
    "Team-based bonus: Thưởng 15% lương tháng nếu >40% nhân viên đạt Performance > 80.\n",
    "\n",
    "Ưu tiên đào tạo nâng cao: Tài trợ khóa học chuyên sâu (vd: AI cho IT, Negotiation cho Sales).\n",
    "\n",
    "Lý do:\n",
    "\n",
    "Duy trì văn hóa cạnh tranh lành mạnh, tránh tự mãn.\n",
    "\n",
    "Tận dụng nhân sự chất lượng để phát triển kỹ năng đột phá.\n",
    "\n",
    "2. Site_B (Tỷ lệ trung bình: 30.4%)\n",
    "Chiến lược:\n",
    "\n",
    "Thưởng cá nhân: Tặng voucher 1 triệu đồng/tháng cho top 3 nhân viên Performance cao nhất.\n",
    "\n",
    "Mentorship program: Ghép đôi với quản lý cấp cao để coaching.\n",
    "\n",
    "Lý do:\n",
    "\n",
    "Khuyến khích cá nhân xuất sắc \"kéo\" cả nhóm đi lên.\n",
    "\n",
    "Giảm khoảng cách kỹ năng giữa các thành viên.\n",
    "\n",
    "3. Site_C (Tỷ lệ thấp nhất: 26.1%)\n",
    "Chiến lược:\n",
    "\n",
    "Cải thiện điều kiện làm việc: Tăng ngày WFH hoặc trang bị thiết bị văn phòng tốt hơn.\n",
    "\n",
    "Khởi động lại mục tiêu: Chia nhỏ KPI thành các mốc hàng tuần, kèm thưởng mini (vd: 200k/tuần nếu đạt 80% target).\n",
    "\n",
    "Lý do:\n",
    "\n",
    "Xây dựng lại động lực từ gốc, tránh cảm giác \"bất lực\".\n",
    "\n",
    "Tạo niềm vui nhỏ để duy trì đà cải thiện.\n",
    "\n",
    "Tác động đến tinh thần làm việc:\n",
    "Location\tƯu điểm chiến lược\tRủi ro cần lưu ý\n",
    "Site_A\tCủng cố tinh thần \"dẫn đầu\"\tÁp lực quá cao dẫn đến burnout\n",
    "Site_B\tCân bằng giữa cá nhân và tập thể\tNguy cơ ganh đặt nội bộ nếu thiếu công bằng\n",
    "Site_C\tTạo môi trường hỗ trợ, ít áp lực\tNhân viên có thể ỷ lại nếu thưởng quá dễ\n",
    "Lời khuyên bổ sung:\n",
    "\n",
    "Site_A & B: Tổ chức giao lưu chia sẻ kinh nghiệm 3 tháng/lần để lan tỏa best practices.\n",
    "\n",
    "Site_C: Khảo sát nhu cầu nhân viên trước khi áp dụng thưởng (vd: họ có thực sự muốn WFH hay không?).\n",
    "\n",
    "Biểu đồ cho thấy sự chênh lệch rõ ràng giữa các Location → Chiến lược cần cá nhân hóa triệt để để tối ưu hiệu quả."
   ]
  },
  {
   "cell_type": "markdown",
   "metadata": {},
   "source": [
    "# Câu 15"
   ]
  },
  {
   "cell_type": "code",
   "execution_count": 44,
   "metadata": {},
   "outputs": [
    {
     "name": "stdout",
     "output_type": "stream",
     "text": [
      "Empty DataFrame\n",
      "Columns: [Employee_ID, Department, Performance]\n",
      "Index: []\n"
     ]
    }
   ],
   "source": [
    "mean_performance = df['Performance'].mean()\n",
    "std_performance = df['Performance'].std()\n",
    "\n",
    "# Xác định các nhân viên có Performance ngoài 2 độ lệch chuẩn\n",
    "outlier_threshold_upper = mean_performance + 2 * std_performance\n",
    "outlier_threshold_lower = mean_performance - 2 * std_performance\n",
    "\n",
    "# Lọc những nhân viên có Performance ngoài phạm vi này\n",
    "outliers = df[(df['Performance'] > outlier_threshold_upper) | (df['Performance'] < outlier_threshold_lower)]\n",
    "\n",
    "# Hiển thị danh sách nhân viên bị ngoại lệ\n",
    "print(outliers[['Employee_ID', 'Department', 'Performance']])"
   ]
  },
  {
   "cell_type": "code",
   "execution_count": 45,
   "metadata": {},
   "outputs": [
    {
     "name": "stdout",
     "output_type": "stream",
     "text": [
      "Mean of Performance: 82.04686927004957\n",
      "Standard Deviation of Performance: 8.213313839935577\n",
      "Upper threshold: 98.47349694992073\n",
      "Lower threshold: 65.62024159017841\n"
     ]
    }
   ],
   "source": [
    "# In ra giá trị trung bình và độ lệch chuẩn\n",
    "print(f\"Mean of Performance: {mean_performance}\")\n",
    "print(f\"Standard Deviation of Performance: {std_performance}\")\n",
    "\n",
    "# In ra ngưỡng trên và dưới\n",
    "print(f\"Upper threshold: {outlier_threshold_upper}\")\n",
    "print(f\"Lower threshold: {outlier_threshold_lower}\")\n"
   ]
  },
  {
   "cell_type": "markdown",
   "metadata": {},
   "source": [
    "Quy trình đánh giá lại hiệu suất cho những nhân viên này:\n",
    "Đánh giá lại hiệu suất qua nhiều nguồn: Để tránh thiên vị, thay vì chỉ dựa vào số liệu hiệu suất đơn lẻ (Performance), có thể thu thập ý kiến phản hồi từ nhiều nguồn (quản lý, đồng nghiệp, tự đánh giá).\n",
    "\n",
    "So sánh với nhóm tương đồng: Đánh giá lại các nhân viên này với những người có tính chất công việc tương tự (cùng phòng ban, vị trí) thay vì so với toàn bộ công ty để đảm bảo không có sự thiên lệch do sự khác biệt trong công việc.\n",
    "\n",
    "Kiểm tra các yếu tố tác động ngoài: Nếu hiệu suất quá cao hoặc quá thấp, cần kiểm tra các yếu tố bên ngoài như môi trường làm việc, sự thay đổi trong công việc, hay các yếu tố cá nhân khác có thể ảnh hưởng đến hiệu suất.\n",
    "\n",
    "Chia sẻ kết quả và cải thiện: Sau khi đánh giá lại, các nhân viên cần được thông báo kết quả và cùng nhau xác định những cách cải thiện hoặc duy trì hiệu suất.\n",
    "\n",
    "Cách tránh thiên vị trong quản lý:\n",
    "Đánh giá khách quan: Quy trình cần dựa trên các số liệu khách quan và thông tin đa chiều từ các nguồn khác nhau, thay vì chỉ dựa vào một yếu tố duy nhất.\n",
    "\n",
    "Sử dụng các công cụ công bằng: Các công cụ đánh giá hiệu suất nên áp dụng một cách công bằng cho tất cả nhân viên, không phân biệt bộ phận, giới tính, hay địa điểm làm việc.\n",
    "\n",
    "Nhân viên được tham gia phản hồi: Cung cấp cơ hội cho nhân viên để tự đánh giá và phản hồi về các yếu tố có thể ảnh hưởng đến hiệu suất của họ, giúp tạo môi trường minh bạch và giảm thiểu sự thiên lệch."
   ]
  },
  {
   "cell_type": "code",
   "execution_count": 40,
   "metadata": {},
   "outputs": [
    {
     "data": {
      "text/html": [
       "<div>\n",
       "<style scoped>\n",
       "    .dataframe tbody tr th:only-of-type {\n",
       "        vertical-align: middle;\n",
       "    }\n",
       "\n",
       "    .dataframe tbody tr th {\n",
       "        vertical-align: top;\n",
       "    }\n",
       "\n",
       "    .dataframe thead th {\n",
       "        text-align: right;\n",
       "    }\n",
       "</style>\n",
       "<table border=\"1\" class=\"dataframe\">\n",
       "  <thead>\n",
       "    <tr style=\"text-align: right;\">\n",
       "      <th></th>\n",
       "      <th>Employee_ID</th>\n",
       "      <th>Department</th>\n",
       "      <th>Performance</th>\n",
       "      <th>Hours_Worked</th>\n",
       "      <th>Training_Hours</th>\n",
       "      <th>Gender</th>\n",
       "      <th>Location</th>\n",
       "      <th>Performance_filled_dept</th>\n",
       "      <th>Efficiency</th>\n",
       "      <th>Performance_mean_filled</th>\n",
       "    </tr>\n",
       "  </thead>\n",
       "  <tbody>\n",
       "    <tr>\n",
       "      <th>0</th>\n",
       "      <td>E001</td>\n",
       "      <td>Sales</td>\n",
       "      <td>88.000000</td>\n",
       "      <td>40.000000</td>\n",
       "      <td>5.000000</td>\n",
       "      <td>Male</td>\n",
       "      <td>Site_A</td>\n",
       "      <td>88.000000</td>\n",
       "      <td>2.200000</td>\n",
       "      <td>88.000000</td>\n",
       "    </tr>\n",
       "    <tr>\n",
       "      <th>1</th>\n",
       "      <td>E002</td>\n",
       "      <td>IT</td>\n",
       "      <td>78.109060</td>\n",
       "      <td>45.000000</td>\n",
       "      <td>3.000000</td>\n",
       "      <td>Female</td>\n",
       "      <td>Site_B</td>\n",
       "      <td>80.833333</td>\n",
       "      <td>1.796296</td>\n",
       "      <td>78.109060</td>\n",
       "    </tr>\n",
       "    <tr>\n",
       "      <th>2</th>\n",
       "      <td>E003</td>\n",
       "      <td>HR</td>\n",
       "      <td>75.000000</td>\n",
       "      <td>38.000000</td>\n",
       "      <td>4.750000</td>\n",
       "      <td>Male</td>\n",
       "      <td>Site_A</td>\n",
       "      <td>75.000000</td>\n",
       "      <td>1.973684</td>\n",
       "      <td>75.000000</td>\n",
       "    </tr>\n",
       "    <tr>\n",
       "      <th>3</th>\n",
       "      <td>E004</td>\n",
       "      <td>Sales</td>\n",
       "      <td>92.000000</td>\n",
       "      <td>42.000000</td>\n",
       "      <td>6.000000</td>\n",
       "      <td>Female</td>\n",
       "      <td>Site_C</td>\n",
       "      <td>92.000000</td>\n",
       "      <td>2.190476</td>\n",
       "      <td>92.000000</td>\n",
       "    </tr>\n",
       "    <tr>\n",
       "      <th>4</th>\n",
       "      <td>E005</td>\n",
       "      <td>IT</td>\n",
       "      <td>68.000000</td>\n",
       "      <td>44.800000</td>\n",
       "      <td>4.000000</td>\n",
       "      <td>Female</td>\n",
       "      <td>Site_B</td>\n",
       "      <td>68.000000</td>\n",
       "      <td>NaN</td>\n",
       "      <td>68.000000</td>\n",
       "    </tr>\n",
       "    <tr>\n",
       "      <th>5</th>\n",
       "      <td>E006</td>\n",
       "      <td>HR</td>\n",
       "      <td>85.000000</td>\n",
       "      <td>39.000000</td>\n",
       "      <td>5.000000</td>\n",
       "      <td>Male</td>\n",
       "      <td>Site_A</td>\n",
       "      <td>85.000000</td>\n",
       "      <td>2.179487</td>\n",
       "      <td>85.000000</td>\n",
       "    </tr>\n",
       "    <tr>\n",
       "      <th>6</th>\n",
       "      <td>E007</td>\n",
       "      <td>Sales</td>\n",
       "      <td>75.470892</td>\n",
       "      <td>41.000000</td>\n",
       "      <td>3.000000</td>\n",
       "      <td>Female</td>\n",
       "      <td>Site_C</td>\n",
       "      <td>85.500000</td>\n",
       "      <td>2.085366</td>\n",
       "      <td>75.470892</td>\n",
       "    </tr>\n",
       "    <tr>\n",
       "      <th>7</th>\n",
       "      <td>E008</td>\n",
       "      <td>IT</td>\n",
       "      <td>79.000000</td>\n",
       "      <td>44.000000</td>\n",
       "      <td>4.000000</td>\n",
       "      <td>Male</td>\n",
       "      <td>Site_B</td>\n",
       "      <td>79.000000</td>\n",
       "      <td>1.795455</td>\n",
       "      <td>79.000000</td>\n",
       "    </tr>\n",
       "    <tr>\n",
       "      <th>8</th>\n",
       "      <td>E009</td>\n",
       "      <td>HR</td>\n",
       "      <td>90.000000</td>\n",
       "      <td>37.000000</td>\n",
       "      <td>4.750000</td>\n",
       "      <td>Female</td>\n",
       "      <td>Site_A</td>\n",
       "      <td>90.000000</td>\n",
       "      <td>2.432432</td>\n",
       "      <td>90.000000</td>\n",
       "    </tr>\n",
       "    <tr>\n",
       "      <th>9</th>\n",
       "      <td>E010</td>\n",
       "      <td>Sales</td>\n",
       "      <td>73.000000</td>\n",
       "      <td>40.000000</td>\n",
       "      <td>5.000000</td>\n",
       "      <td>Male</td>\n",
       "      <td>Site_C</td>\n",
       "      <td>73.000000</td>\n",
       "      <td>1.825000</td>\n",
       "      <td>73.000000</td>\n",
       "    </tr>\n",
       "    <tr>\n",
       "      <th>10</th>\n",
       "      <td>E011</td>\n",
       "      <td>IT</td>\n",
       "      <td>86.000000</td>\n",
       "      <td>46.000000</td>\n",
       "      <td>2.000000</td>\n",
       "      <td>Female</td>\n",
       "      <td>Site_B</td>\n",
       "      <td>86.000000</td>\n",
       "      <td>1.869565</td>\n",
       "      <td>86.000000</td>\n",
       "    </tr>\n",
       "    <tr>\n",
       "      <th>11</th>\n",
       "      <td>E012</td>\n",
       "      <td>HR</td>\n",
       "      <td>86.357434</td>\n",
       "      <td>38.000000</td>\n",
       "      <td>6.000000</td>\n",
       "      <td>Male</td>\n",
       "      <td>Site_A</td>\n",
       "      <td>80.600000</td>\n",
       "      <td>2.121053</td>\n",
       "      <td>86.357434</td>\n",
       "    </tr>\n",
       "    <tr>\n",
       "      <th>12</th>\n",
       "      <td>E013</td>\n",
       "      <td>Sales</td>\n",
       "      <td>95.000000</td>\n",
       "      <td>43.000000</td>\n",
       "      <td>7.000000</td>\n",
       "      <td>Female</td>\n",
       "      <td>Site_C</td>\n",
       "      <td>95.000000</td>\n",
       "      <td>2.209302</td>\n",
       "      <td>95.000000</td>\n",
       "    </tr>\n",
       "    <tr>\n",
       "      <th>13</th>\n",
       "      <td>E014</td>\n",
       "      <td>IT</td>\n",
       "      <td>70.000000</td>\n",
       "      <td>44.800000</td>\n",
       "      <td>3.000000</td>\n",
       "      <td>Male</td>\n",
       "      <td>Site_B</td>\n",
       "      <td>70.000000</td>\n",
       "      <td>NaN</td>\n",
       "      <td>70.000000</td>\n",
       "    </tr>\n",
       "    <tr>\n",
       "      <th>14</th>\n",
       "      <td>E015</td>\n",
       "      <td>HR</td>\n",
       "      <td>82.000000</td>\n",
       "      <td>39.000000</td>\n",
       "      <td>5.000000</td>\n",
       "      <td>Male</td>\n",
       "      <td>Site_A</td>\n",
       "      <td>82.000000</td>\n",
       "      <td>2.102564</td>\n",
       "      <td>82.000000</td>\n",
       "    </tr>\n",
       "    <tr>\n",
       "      <th>15</th>\n",
       "      <td>E016</td>\n",
       "      <td>Sales</td>\n",
       "      <td>78.000000</td>\n",
       "      <td>41.000000</td>\n",
       "      <td>4.000000</td>\n",
       "      <td>Female</td>\n",
       "      <td>Site_C</td>\n",
       "      <td>78.000000</td>\n",
       "      <td>1.902439</td>\n",
       "      <td>78.000000</td>\n",
       "    </tr>\n",
       "    <tr>\n",
       "      <th>16</th>\n",
       "      <td>E017</td>\n",
       "      <td>IT</td>\n",
       "      <td>89.000000</td>\n",
       "      <td>45.000000</td>\n",
       "      <td>3.666667</td>\n",
       "      <td>Male</td>\n",
       "      <td>Site_B</td>\n",
       "      <td>89.000000</td>\n",
       "      <td>1.977778</td>\n",
       "      <td>89.000000</td>\n",
       "    </tr>\n",
       "    <tr>\n",
       "      <th>17</th>\n",
       "      <td>E018</td>\n",
       "      <td>HR</td>\n",
       "      <td>71.000000</td>\n",
       "      <td>37.000000</td>\n",
       "      <td>3.000000</td>\n",
       "      <td>Female</td>\n",
       "      <td>Site_A</td>\n",
       "      <td>71.000000</td>\n",
       "      <td>1.918919</td>\n",
       "      <td>71.000000</td>\n",
       "    </tr>\n",
       "    <tr>\n",
       "      <th>18</th>\n",
       "      <td>E019</td>\n",
       "      <td>Sales</td>\n",
       "      <td>87.000000</td>\n",
       "      <td>41.166667</td>\n",
       "      <td>5.000000</td>\n",
       "      <td>Male</td>\n",
       "      <td>Site_C</td>\n",
       "      <td>87.000000</td>\n",
       "      <td>NaN</td>\n",
       "      <td>87.000000</td>\n",
       "    </tr>\n",
       "    <tr>\n",
       "      <th>19</th>\n",
       "      <td>E020</td>\n",
       "      <td>IT</td>\n",
       "      <td>93.000000</td>\n",
       "      <td>44.000000</td>\n",
       "      <td>6.000000</td>\n",
       "      <td>Female</td>\n",
       "      <td>Site_B</td>\n",
       "      <td>93.000000</td>\n",
       "      <td>2.113636</td>\n",
       "      <td>93.000000</td>\n",
       "    </tr>\n",
       "  </tbody>\n",
       "</table>\n",
       "</div>"
      ],
      "text/plain": [
       "   Employee_ID Department  Performance  Hours_Worked  Training_Hours  Gender  \\\n",
       "0         E001      Sales    88.000000     40.000000        5.000000    Male   \n",
       "1         E002         IT    78.109060     45.000000        3.000000  Female   \n",
       "2         E003         HR    75.000000     38.000000        4.750000    Male   \n",
       "3         E004      Sales    92.000000     42.000000        6.000000  Female   \n",
       "4         E005         IT    68.000000     44.800000        4.000000  Female   \n",
       "5         E006         HR    85.000000     39.000000        5.000000    Male   \n",
       "6         E007      Sales    75.470892     41.000000        3.000000  Female   \n",
       "7         E008         IT    79.000000     44.000000        4.000000    Male   \n",
       "8         E009         HR    90.000000     37.000000        4.750000  Female   \n",
       "9         E010      Sales    73.000000     40.000000        5.000000    Male   \n",
       "10        E011         IT    86.000000     46.000000        2.000000  Female   \n",
       "11        E012         HR    86.357434     38.000000        6.000000    Male   \n",
       "12        E013      Sales    95.000000     43.000000        7.000000  Female   \n",
       "13        E014         IT    70.000000     44.800000        3.000000    Male   \n",
       "14        E015         HR    82.000000     39.000000        5.000000    Male   \n",
       "15        E016      Sales    78.000000     41.000000        4.000000  Female   \n",
       "16        E017         IT    89.000000     45.000000        3.666667    Male   \n",
       "17        E018         HR    71.000000     37.000000        3.000000  Female   \n",
       "18        E019      Sales    87.000000     41.166667        5.000000    Male   \n",
       "19        E020         IT    93.000000     44.000000        6.000000  Female   \n",
       "\n",
       "   Location  Performance_filled_dept  Efficiency  Performance_mean_filled  \n",
       "0    Site_A                88.000000    2.200000                88.000000  \n",
       "1    Site_B                80.833333    1.796296                78.109060  \n",
       "2    Site_A                75.000000    1.973684                75.000000  \n",
       "3    Site_C                92.000000    2.190476                92.000000  \n",
       "4    Site_B                68.000000         NaN                68.000000  \n",
       "5    Site_A                85.000000    2.179487                85.000000  \n",
       "6    Site_C                85.500000    2.085366                75.470892  \n",
       "7    Site_B                79.000000    1.795455                79.000000  \n",
       "8    Site_A                90.000000    2.432432                90.000000  \n",
       "9    Site_C                73.000000    1.825000                73.000000  \n",
       "10   Site_B                86.000000    1.869565                86.000000  \n",
       "11   Site_A                80.600000    2.121053                86.357434  \n",
       "12   Site_C                95.000000    2.209302                95.000000  \n",
       "13   Site_B                70.000000         NaN                70.000000  \n",
       "14   Site_A                82.000000    2.102564                82.000000  \n",
       "15   Site_C                78.000000    1.902439                78.000000  \n",
       "16   Site_B                89.000000    1.977778                89.000000  \n",
       "17   Site_A                71.000000    1.918919                71.000000  \n",
       "18   Site_C                87.000000         NaN                87.000000  \n",
       "19   Site_B                93.000000    2.113636                93.000000  "
      ]
     },
     "execution_count": 40,
     "metadata": {},
     "output_type": "execute_result"
    }
   ],
   "source": [
    "df.head(21)"
   ]
  },
  {
   "cell_type": "markdown",
   "metadata": {},
   "source": [
    "# ANN"
   ]
  },
  {
   "cell_type": "markdown",
   "metadata": {},
   "source": [
    "# Câu 16"
   ]
  },
  {
   "cell_type": "code",
   "execution_count": 46,
   "metadata": {},
   "outputs": [
    {
     "name": "stderr",
     "output_type": "stream",
     "text": [
      "100.0%\n",
      "100.0%\n",
      "100.0%\n",
      "100.0%\n"
     ]
    },
    {
     "data": {
      "image/png": "[encoded data removed]",
      "text/plain": [
       "<Figure size 1500x500 with 5 Axes>"
      ]
     },
     "metadata": {},
     "output_type": "display_data"
    }
   ],
   "source": [
    "import torch\n",
    "from torchvision import datasets, transforms\n",
    "import matplotlib.pyplot as plt\n",
    "\n",
    "# Định nghĩa các phép biến đổi: chuẩn hóa và chuyển ảnh thành tensor\n",
    "transform = transforms.Compose([\n",
    "    transforms.ToTensor(),  # Chuyển ảnh thành tensor và chuẩn hóa pixel về [0, 1]\n",
    "    transforms.Lambda(lambda x: x.view(-1))  # Làm phẳng ảnh thành vector 784 chiều\n",
    "])\n",
    "\n",
    "# Tải dữ liệu MNIST (train và test)\n",
    "train_dataset = datasets.MNIST(root='./data', train=True, download=True, transform=transform)\n",
    "test_dataset = datasets.MNIST(root='./data', train=False, download=True, transform=transform)\n",
    "\n",
    "# In 5 ảnh mẫu kèm nhãn\n",
    "fig, axes = plt.subplots(1, 5, figsize=(15, 5))\n",
    "for i in range(5):\n",
    "    image, label = train_dataset[i]\n",
    "    axes[i].imshow(image.view(28, 28), cmap='gray')  # Hiển thị ảnh 28x28\n",
    "    axes[i].set_title(f'Label: {label}')\n",
    "    axes[i].axis('off')\n",
    "\n",
    "plt.show()\n"
   ]
  },
  {
   "cell_type": "markdown",
   "metadata": {},
   "source": [
    "Đề xuất cách trực quan hóa dữ liệu khác:\n",
    "Ngoài việc hiển thị ảnh gốc, một cách trực quan hóa dữ liệu khác là sử dụng t-SNE (t-distributed Stochastic Neighbor Embedding), một kỹ thuật giảm chiều phổ biến để trực quan hóa các đặc trưng trong không gian thấp chiều (ví dụ: 2D hoặc 3D).\n",
    "\n",
    "Với MNIST, sau khi làm phẳng các ảnh thành vector 784 chiều, bạn có thể sử dụng t-SNE để giảm chiều dữ liệu xuống 2D và trực quan hóa các điểm dữ liệu dựa trên nhãn.\n",
    "Giải thích t-SNE:\n",
    "t-SNE là một kỹ thuật giảm chiều để trực quan hóa các tập dữ liệu trong không gian 2D hoặc 3D. Từng điểm dữ liệu trong không gian 784 chiều sẽ được ánh xạ lại trong không gian 2 chiều.\n",
    "\n",
    "Màu sắc trong biểu đồ t-SNE đại diện cho các nhãn của các chữ số (0-9). Nhờ đó, bạn có thể quan sát sự phân nhóm của các chữ số khác nhau dựa trên các đặc trưng của chúng mà không cần sử dụng ảnh gốc.\n",
    "\n",
    "Lợi ích của trực quan hóa này:\n",
    "Phân biệt các chữ số: Bạn có thể quan sát được cách các chữ số khác nhau (0, 1, 2, 3,...) phân biệt trong không gian giảm chiều.\n",
    "\n",
    "Kiểm tra sự phân tán: Một số chữ số có thể có sự phân tán rộng hơn trong không gian đặc trưng, trong khi những chữ số khác có thể tập trung lại gần nhau.\n",
    "\n",
    "Hiểu rõ hơn về dữ liệu: Trực quan hóa giúp bạn dễ dàng nhận thấy các mẫu, sự khác biệt hoặc sự tương đồng giữa các chữ số viết tay."
   ]
  },
  {
   "cell_type": "markdown",
   "metadata": {},
   "source": [
    "# Câu 17"
   ]
  },
  {
   "cell_type": "code",
   "execution_count": 47,
   "metadata": {},
   "outputs": [
    {
     "name": "stdout",
     "output_type": "stream",
     "text": [
      "Batch size: 64\n"
     ]
    }
   ],
   "source": [
    "import torch\n",
    "from torch.utils.data import DataLoader, random_split\n",
    "from torchvision import datasets, transforms\n",
    "\n",
    "# Định nghĩa các phép biến đổi: chuẩn hóa và chuyển ảnh thành tensor\n",
    "transform = transforms.Compose([\n",
    "    transforms.ToTensor(),  # Chuyển ảnh thành tensor và chuẩn hóa pixel về [0, 1]\n",
    "    transforms.Lambda(lambda x: x.view(-1))  # Làm phẳng ảnh thành vector 784 chiều\n",
    "])\n",
    "\n",
    "# Tải dữ liệu MNIST\n",
    "full_train_dataset = datasets.MNIST(root='./data', train=True, download=True, transform=transform)\n",
    "\n",
    "# Chia dữ liệu train thành 80% train và 20% test\n",
    "train_size = int(0.8 * len(full_train_dataset))\n",
    "test_size = len(full_train_dataset) - train_size\n",
    "train_dataset, validation_dataset = random_split(full_train_dataset, [train_size, test_size])\n",
    "\n",
    "# Tạo DataLoader với batch size = 64\n",
    "train_loader = DataLoader(train_dataset, batch_size=64, shuffle=True)\n",
    "validation_loader = DataLoader(validation_dataset, batch_size=64, shuffle=False)\n",
    "\n",
    "# Kiểm tra kích thước batch\n",
    "for images, labels in train_loader:\n",
    "    print(f\"Batch size: {images.size(0)}\")\n",
    "    break\n"
   ]
  },
  {
   "cell_type": "markdown",
   "metadata": {},
   "source": [
    "Chiến lược chọn batch size:\n",
    "Batch size nhỏ (ví dụ: 32 hoặc 16):\n",
    "\n",
    "Ưu điểm: Tiết kiệm bộ nhớ, giúp cập nhật trọng số nhanh hơn, có thể giảm overfitting.\n",
    "\n",
    "Nhược điểm: Huấn luyện chậm hơn, độ chính xác có thể thấp hơn do sự ngẫu nhiên cao trong quá trình học.\n",
    "\n",
    "Batch size lớn (ví dụ: 128 hoặc 256):\n",
    "\n",
    "Ưu điểm: Huấn luyện nhanh hơn, độ chính xác ổn định hơn.\n",
    "\n",
    "Nhược điểm: Yêu cầu bộ nhớ lớn, dễ gây overfitting nếu quá lớn.\n",
    "\n",
    "Đề xuất:\n",
    "Với bộ dữ liệu MNIST, batch size = 64 hoặc 128 là lựa chọn hợp lý, giúp cân bằng giữa tốc độ huấn luyện và việc sử dụng bộ nhớ."
   ]
  },
  {
   "cell_type": "markdown",
   "metadata": {},
   "source": [
    "# Câu 18"
   ]
  },
  {
   "cell_type": "code",
   "execution_count": 50,
   "metadata": {},
   "outputs": [
    {
     "name": "stdout",
     "output_type": "stream",
     "text": [
      "Epoch 1: Train Loss: 0.3192, Test Loss: 0.1420\n",
      "Epoch 2: Train Loss: 0.1213, Test Loss: 0.0991\n",
      "Epoch 3: Train Loss: 0.0836, Test Loss: 0.1122\n",
      "Epoch 4: Train Loss: 0.0668, Test Loss: 0.1119\n",
      "Epoch 5: Train Loss: 0.0547, Test Loss: 0.0788\n",
      "Epoch 6: Train Loss: 0.0457, Test Loss: 0.0910\n",
      "Epoch 7: Train Loss: 0.0404, Test Loss: 0.0813\n",
      "Epoch 8: Train Loss: 0.0323, Test Loss: 0.0817\n",
      "Epoch 9: Train Loss: 0.0294, Test Loss: 0.0886\n",
      "Early stopping at epoch 10\n"
     ]
    },
    {
     "data": {
      "image/png": "[encoded data removed]",
      "text/plain": [
       "<Figure size 640x480 with 1 Axes>"
      ]
     },
     "metadata": {},
     "output_type": "display_data"
    }
   ],
   "source": [
    "import torch\n",
    "import torch.nn as nn\n",
    "import torch.optim as optim\n",
    "import matplotlib.pyplot as plt\n",
    "from torch.utils.data import DataLoader\n",
    "from torchvision import datasets, transforms\n",
    "\n",
    "# Kiến trúc ANN\n",
    "class MNIST_ANN(nn.Module):\n",
    "    def __init__(self):\n",
    "        super(MNIST_ANN, self).__init__()\n",
    "        self.layers = nn.Sequential(\n",
    "            nn.Linear(784, 128),\n",
    "            nn.ReLU(),\n",
    "            nn.Linear(128, 64),\n",
    "            nn.ReLU(),\n",
    "            nn.Linear(64, 32),\n",
    "            nn.ReLU(),\n",
    "            nn.Linear(32, 10)\n",
    "        )  \n",
    "\n",
    "    def forward(self, x):\n",
    "        return self.layers(x)\n",
    "\n",
    "# Chuẩn bị dữ liệu\n",
    "transform = transforms.Compose([transforms.ToTensor(), transforms.Normalize((0.1307,), (0.3081,))])\n",
    "train_dataset = datasets.MNIST('./data', train=True, download=True, transform=transform)\n",
    "test_dataset = datasets.MNIST('./data', train=False, transform=transform)\n",
    "\n",
    "# Tạo DataLoader\n",
    "train_loader = DataLoader(train_dataset, batch_size=64, shuffle=True)\n",
    "test_loader = DataLoader(test_dataset, batch_size=1000)\n",
    "\n",
    "# Khởi tạo mô hình\n",
    "device = torch.device(\"cuda\" if torch.cuda.is_available() else \"cpu\")\n",
    "model = MNIST_ANN().to(device)\n",
    "criterion = nn.CrossEntropyLoss()\n",
    "optimizer = optim.Adam(model.parameters(), lr=0.001)\n",
    "\n",
    "# Huấn luyện với Early Stopping\n",
    "train_losses, test_losses = [], []\n",
    "best_loss = float('inf')\n",
    "patience_counter = 0\n",
    "\n",
    "for epoch in range(20):\n",
    "    model.train()\n",
    "    running_loss = 0.0\n",
    "    for images, labels in train_loader:\n",
    "        images = images.view(-1, 784).to(device)\n",
    "        optimizer.zero_grad()\n",
    "        outputs = model(images)\n",
    "        loss = criterion(outputs, labels.to(device))\n",
    "        loss.backward()\n",
    "        optimizer.step()\n",
    "        running_loss += loss.item()\n",
    "    \n",
    "    # Đánh giá trên tập test\n",
    "    model.eval()\n",
    "    test_loss = 0.0\n",
    "    with torch.no_grad():\n",
    "        for images, labels in test_loader:\n",
    "            images = images.view(-1, 784).to(device)\n",
    "            outputs = model(images)\n",
    "            test_loss += criterion(outputs, labels.to(device)).item()\n",
    "    \n",
    "    # Ghi nhận loss\n",
    "    epoch_train_loss = running_loss/len(train_loader)\n",
    "    epoch_test_loss = test_loss/len(test_loader)\n",
    "    train_losses.append(epoch_train_loss)\n",
    "    test_losses.append(epoch_test_loss)\n",
    "    \n",
    "    # Early Stopping\n",
    "    if epoch_test_loss < best_loss:\n",
    "        best_loss = epoch_test_loss\n",
    "        patience_counter = 0\n",
    "        torch.save(model.state_dict(), 'best_model.pth')\n",
    "    else:\n",
    "        patience_counter += 1\n",
    "        if patience_counter >= 5:\n",
    "            print(f\"Early stopping at epoch {epoch+1}\")\n",
    "            break\n",
    "    \n",
    "    print(f\"Epoch {epoch+1}: Train Loss: {epoch_train_loss:.4f}, Test Loss: {epoch_test_loss:.4f}\")\n",
    "\n",
    "# Vẽ biểu đồ loss\n",
    "plt.plot(train_losses, label='Training Loss')\n",
    "plt.plot(test_losses, label='Validation Loss')\n",
    "plt.xlabel('Epochs')\n",
    "plt.ylabel('Loss')\n",
    "plt.legend()\n",
    "plt.title('Training and Validation Loss')\n",
    "plt.show()\n"
   ]
  },
  {
   "cell_type": "markdown",
   "metadata": {},
   "source": [
    "Đề xuất cải tiến kiến trúc:\n",
    "Nếu bạn muốn cải thiện hiệu suất mô hình, bạn có thể thử một số thay đổi sau:\n",
    "\n",
    "Thêm tầng ẩn: Bạn có thể thêm một tầng ẩn thứ tư để giúp mô hình học được các đặc trưng phức tạp hơn.\n",
    "\n",
    "Ví dụ: 784 -> 256 -> 128 -> 64 -> 32 -> 10.\n",
    "\n",
    "Thay đổi số lượng nơ-ron trong các tầng:\n",
    "\n",
    "Bạn có thể tăng số lượng nơ-ron trong các tầng ẩn (ví dụ: 784 -> 512 -> 256 -> 128 -> 64 -> 10) để mô hình có thể học tốt hơn.\n",
    "\n",
    "Sử dụng Batch Normalization: Thêm các lớp BatchNorm sau mỗi lớp Linear giúp mô hình học ổn định hơn và nhanh hơn.\n",
    "\n",
    "Tuning Learning Rate: Thử nghiệm với các giá trị học khác nhau, chẳng hạn như 0.01 hoặc 0.0001, để tìm ra giá trị phù hợp."
   ]
  },
  {
   "cell_type": "markdown",
   "metadata": {},
   "source": [
    "# Câu 19"
   ]
  },
  {
   "cell_type": "code",
   "execution_count": 51,
   "metadata": {},
   "outputs": [
    {
     "name": "stdout",
     "output_type": "stream",
     "text": [
      "Accuracy: 97.72%\n"
     ]
    },
    {
     "data": {
      "image/png": "[encoded data removed]",
      "text/plain": [
       "<Figure size 800x600 with 2 Axes>"
      ]
     },
     "metadata": {},
     "output_type": "display_data"
    }
   ],
   "source": [
    "import torch\n",
    "import torch.nn as nn\n",
    "import torch.optim as optim\n",
    "import matplotlib.pyplot as plt\n",
    "from torch.utils.data import DataLoader\n",
    "from torchvision import datasets, transforms\n",
    "from sklearn.metrics import accuracy_score, confusion_matrix\n",
    "import seaborn as sns\n",
    "\n",
    "# Kiến trúc ANN (như đã thực hiện trước)\n",
    "class MNIST_ANN(nn.Module):\n",
    "    def __init__(self):\n",
    "        super(MNIST_ANN, self).__init__()\n",
    "        self.layers = nn.Sequential(\n",
    "            nn.Linear(784, 128),\n",
    "            nn.ReLU(),\n",
    "            nn.Linear(128, 64),\n",
    "            nn.ReLU(),\n",
    "            nn.Linear(64, 32),\n",
    "            nn.ReLU(),\n",
    "            nn.Linear(32, 10)\n",
    "        )\n",
    "\n",
    "    def forward(self, x):\n",
    "        return self.layers(x)\n",
    "\n",
    "# Chuẩn bị dữ liệu và huấn luyện mô hình như trước\n",
    "transform = transforms.Compose([transforms.ToTensor(), transforms.Normalize((0.1307,), (0.3081,))])\n",
    "train_dataset = datasets.MNIST('./data', train=True, download=True, transform=transform)\n",
    "test_dataset = datasets.MNIST('./data', train=False, transform=transform)\n",
    "\n",
    "train_loader = DataLoader(train_dataset, batch_size=64, shuffle=True)\n",
    "test_loader = DataLoader(test_dataset, batch_size=1000)\n",
    "\n",
    "# Khởi tạo mô hình\n",
    "device = torch.device(\"cuda\" if torch.cuda.is_available() else \"cpu\")\n",
    "model = MNIST_ANN().to(device)\n",
    "criterion = nn.CrossEntropyLoss()\n",
    "optimizer = optim.Adam(model.parameters(), lr=0.001)\n",
    "\n",
    "# Huấn luyện mô hình (giống như đã thực hiện trước)\n",
    "# Sau khi huấn luyện, bạn sẽ có mô hình tốt nhất lưu trong 'best_model.pth'\n",
    "\n",
    "# Đánh giá trên tập test\n",
    "model.load_state_dict(torch.load('best_model.pth'))\n",
    "model.eval()\n",
    "\n",
    "# Tính accuracy và confusion matrix\n",
    "all_labels = []\n",
    "all_preds = []\n",
    "\n",
    "with torch.no_grad():\n",
    "    for images, labels in test_loader:\n",
    "        images = images.view(-1, 784).to(device)\n",
    "        labels = labels.to(device)\n",
    "        outputs = model(images)\n",
    "        _, predicted = torch.max(outputs, 1)\n",
    "        \n",
    "        all_labels.extend(labels.cpu().numpy())\n",
    "        all_preds.extend(predicted.cpu().numpy())\n",
    "\n",
    "# Tính Accuracy\n",
    "accuracy = accuracy_score(all_labels, all_preds)\n",
    "print(f\"Accuracy: {accuracy * 100:.2f}%\")\n",
    "\n",
    "# Tính Confusion Matrix\n",
    "cm = confusion_matrix(all_labels, all_preds)\n",
    "\n",
    "# Vẽ Confusion Matrix\n",
    "plt.figure(figsize=(8, 6))\n",
    "sns.heatmap(cm, annot=True, fmt=\"d\", cmap=\"Blues\", xticklabels=range(10), yticklabels=range(10))\n",
    "plt.title('Confusion Matrix')\n",
    "plt.xlabel('Predicted Labels')\n",
    "plt.ylabel('True Labels')\n",
    "plt.show()\n",
    "\n",
    "# Nếu Accuracy < 95%, phân tích các chữ số bị nhầm lẫn nhiều nhất\n",
    "if accuracy < 0.95:\n",
    "    # In ra những chữ số bị nhầm lẫn nhiều nhất\n",
    "    row_sums = cm.sum(axis=1)\n",
    "    misclassified = row_sums - np.diagonal(cm)\n",
    "    max_misclassified_digits = misclassified.argsort()[-5:][::-1]  # In ra 5 chữ số bị nhầm nhiều nhất\n",
    "    \n",
    "    print(f\"Chữ số bị nhầm lẫn nhiều nhất: {max_misclassified_digits}\")\n"
   ]
  },
  {
   "cell_type": "markdown",
   "metadata": {},
   "source": [
    "Đề xuất cải tiến mô hình dựa trên các chữ số bị nhầm lẫn nhiều:\n",
    "Chữ số khó phân biệt: Một số chữ số như 4 và 9 hoặc 2 và 3 thường dễ bị nhầm lẫn do hình dáng tương tự. Để cải thiện mô hình, bạn có thể:\n",
    "\n",
    "Sử dụng các kỹ thuật tiền xử lý: Cải thiện chất lượng ảnh đầu vào, chẳng hạn như augmentation (xoay, phóng to, dịch chuyển ảnh) để tăng cường tính đa dạng của dữ liệu huấn luyện.\n",
    "\n",
    "Sử dụng mô hình CNN: Một mô hình Convolutional Neural Network (CNN) có thể học được các đặc trưng không gian của ảnh tốt hơn, giúp phân biệt các chữ số tương tự nhau dễ dàng hơn so với một ANN cơ bản.\n",
    "\n",
    "Sử dụng kiến thức đặc trưng: Nếu bạn phân tích sâu các chữ số bị nhầm lẫn, có thể thiết kế các kỹ thuật xử lý ảnh đặc biệt (ví dụ: tăng cường các đường nét trong ảnh số 4 hoặc 9 để giảm nhầm lẫn)."
   ]
  }
 ],
 "metadata": {
  "kernelspec": {
   "display_name": "Python 3",
   "language": "python",
   "name": "python3"
  },
  "language_info": {
   "codemirror_mode": {
    "name": "ipython",
    "version": 3
   },
   "file_extension": ".py",
   "mimetype": "text/x-python",
   "name": "python",
   "nbconvert_exporter": "python",
   "pygments_lexer": "ipython3",
   "version": "3.12.9"
  }
 },
 "nbformat": 4,
 "nbformat_minor": 2
}
